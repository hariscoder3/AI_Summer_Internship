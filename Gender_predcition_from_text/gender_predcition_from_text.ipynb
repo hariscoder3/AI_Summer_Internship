{
 "cells": [
  {
   "cell_type": "markdown",
   "metadata": {},
   "source": [
    "<h1 style=\"color:red\">Gender Identification Prediction System – Machine Learning Cycle</h1>"
   ]
  },
  {
   "cell_type": "markdown",
   "metadata": {},
   "source": [
    "# Machine Learning Cycle\n",
    "\n",
    "### Four phases of a Machine Learning Cycle are\n",
    "\n",
    "### Training Phase\n",
    "\n",
    "    Build the Model using Training Data\n",
    "\n",
    "### Testing Phase\n",
    "\n",
    "     Evaluate the performance of Model using Testing Data\n",
    "\n",
    "### Application Phase\n",
    "\n",
    "     Deploy the Model in the Real-world, to predict Real-time unseen Data\n",
    "\n",
    "### Feedback Phase\n",
    "\n",
    "    Take Feedback from the Users and Domain Experts to improve the Model\n"
   ]
  },
  {
   "cell_type": "markdown",
   "metadata": {},
   "source": [
    "# Step 1: Import Libraries"
   ]
  },
  {
   "cell_type": "code",
   "execution_count": 1,
   "metadata": {},
   "outputs": [],
   "source": [
    "import re\n",
    "import pandas as pd\n",
    "from nltk.corpus import stopwords\n",
    "from sklearn.feature_extraction.text import TfidfVectorizer\n",
    "from sklearn.model_selection import train_test_split\n",
    "from sklearn.naive_bayes import MultinomialNB\n",
    "from sklearn.metrics import accuracy_score, classification_report, confusion_matrix\n",
    "import nltk\n",
    "import joblib\n",
    "import seaborn as sns\n",
    "import matplotlib.pyplot as plt"
   ]
  },
  {
   "cell_type": "markdown",
   "metadata": {},
   "source": [
    "# Step 2: Load Sample Data"
   ]
  },
  {
   "cell_type": "code",
   "execution_count": 9,
   "metadata": {},
   "outputs": [
    {
     "name": "stdout",
     "output_type": "stream",
     "text": [
      "\n",
      "\\Gender Identification Data:\n",
      "============\n",
      "\n",
      "Sample data count = 20050\n",
      "\n",
      "   gender                                        description\n",
      "0    male                              i sing my own rhythm.\n",
      "1    male  I'm the author of novels filled with family dr...\n",
      "2    male                louis whining and squealing and all\n",
      "3    male  Mobile guy.  49ers, Shazam, Google, Kleiner Pe...\n",
      "4  female  Ricky Wilson The Best FRONTMAN/Kaiser Chiefs T...\n",
      "       gender                                        description\n",
      "20045  female                                               (rp)\n",
      "20046    male  Whatever you like, it's not a problem at all. ...\n",
      "20047    male  #TeamBarcelona ..You look lost so you should f...\n",
      "20048  female  Anti-statist; I homeschool my kids. Aspiring t...\n",
      "20049  female                     Teamwork makes the dream work.\n"
     ]
    }
   ],
   "source": [
    "try:\n",
    "    data = pd.read_csv('Gender_cleaned_data.csv', encoding='utf-8')\n",
    "except UnicodeDecodeError:\n",
    "    data = pd.read_csv('Gender_cleaned_data.csv', encoding='latin1')\n",
    "\n",
    "print(\"\\n\\Gender Identification Data:\")\n",
    "print(\"============\\n\")\n",
    "pd.set_option(\"display.max_rows\", None, \"display.max_columns\", None)\n",
    "print(f'Sample data count = {len(data)}\\n')\n",
    "print(data.head())\n",
    "print(data.tail())"
   ]
  },
  {
   "cell_type": "markdown",
   "metadata": {},
   "source": [
    "## Step 2.1: View Columns In Dataset"
   ]
  },
  {
   "cell_type": "code",
   "execution_count": 10,
   "metadata": {},
   "outputs": [
    {
     "data": {
      "text/plain": [
       "Index(['gender', 'description'], dtype='object')"
      ]
     },
     "execution_count": 10,
     "metadata": {},
     "output_type": "execute_result"
    }
   ],
   "source": [
    "data.columns"
   ]
  },
  {
   "cell_type": "markdown",
   "metadata": {},
   "source": [
    "## Step 2.2: Keeping Required Column In Dataset"
   ]
  },
  {
   "cell_type": "markdown",
   "metadata": {},
   "source": [
    "# Step 3: Understand and Pre-process Sample Data\n",
    "\n",
    "## Definition of Pre-processing Sample Data\n",
    "\n",
    "Pre-processing sample data involves cleaning and transforming raw data into a format that can be effectively used for analysis. This step is crucial in natural language processing (NLP) as it helps in improving the performance of machine learning models by removing noise and ensuring consistency.\n",
    "\n",
    "## Impact of Pre-processing Sample Data\n",
    "\n",
    "1. **Improves Data Quality**: Removes irrelevant and redundant information, leading to cleaner and more meaningful data.\n",
    "2. **Enhances Model Accuracy**: By reducing noise and standardizing text, pre-processing helps in achieving better model performance.\n",
    "3. **Facilitates Efficient Data Analysis**: Simplifies the data, making it easier to analyze and interpret.\n",
    "4. **Reduces Complexity**: Helps in reducing the complexity of data by normalizing text and handling missing values.\n",
    "\n",
    "Common pre-processing steps include:\n",
    "- Removing punctuation and special characters\n",
    "- Converting text to lowercase\n",
    "- Removing stopwords\n",
    "- Stemming and lemmatization\n",
    "\n"
   ]
  },
  {
   "cell_type": "markdown",
   "metadata": {},
   "source": [
    "## Step 3.1: Download and set stopwords\n",
    "\n",
    "### Definition of Stopwords\n",
    "\n",
    "Stopwords are commonly used words in a language (such as \"the\", \"is\", \"in\", etc.) that are often filtered out before processing text data. These words are considered to have little value in understanding the content of a document because they are so frequently used.\n",
    "\n",
    "### Impact of Removing Stopwords\n",
    "\n",
    "1. **Reduces Noise**: Eliminates common but unimportant words, helping to focus on the more meaningful words in the text.\n",
    "2. **Improves Model Performance**: Reduces the dimensionality of the data, which can improve the efficiency and accuracy of machine learning models.\n",
    "3. **Enhances Text Analysis**: Helps in highlighting the significant words that contribute to the context and meaning of the text.\n",
    "\n",
    "### Note\n",
    "\n",
    "It is important to understand that removing stopwords is not always necessary and depends on the specific requirements of your text analysis or machine learning task. In some cases, stopwords might carry important contextual information that could be valuable for your analysis. Therefore, it is essential to evaluate whether removing stopwords will benefit or hinder your particular application.\n",
    "\n",
    "### How to Download and Set Stopwords\n",
    "\n",
    "To use stopwords in your text pre-processing steps, you need to download a list of stopwords for the language you are working with. In the case of English, the `nltk` library provides a comprehensive list of stopwords.\n",
    "\n",
    "The following code snippet shows how to download and set stopwords using the `nltk` library:\n",
    "\n",
    "```python\n",
    "# Ensure you have downloaded the stopwords\n",
    "import nltk\n",
    "nltk.download('stopwords')\n",
    "from nltk.corpus import stopwords\n",
    "\n",
    "# Set the stopwords for English\n",
    "stop_words = set(stopwords.words('english'))\n"
   ]
  },
  {
   "cell_type": "code",
   "execution_count": 11,
   "metadata": {},
   "outputs": [],
   "source": [
    "# Ensure you have downloaded the stopwords\n",
    "stop_words = set(stopwords.words('english'))"
   ]
  },
  {
   "cell_type": "markdown",
   "metadata": {},
   "source": [
    "## Step 3.2: Define a function to clean the text\n",
    "\n",
    "This function will remove symbols and numbers, convert text to lowercase, and remove stop words."
   ]
  },
  {
   "cell_type": "code",
   "execution_count": 12,
   "metadata": {},
   "outputs": [],
   "source": [
    "# Function to clean the text\n",
    "def clean_text(text):\n",
    "    if isinstance(text,str):\n",
    "        # Remove symbols and numbers\n",
    "        text = re.sub(r'[^a-zA-Z\\s]', '', text)\n",
    "        # Convert text to lowercase\n",
    "        text = text.lower()\n",
    "        # Remove stop words\n",
    "        text = ' '.join(word for word in text.split() if word not in stop_words)\n",
    "        return text\n",
    "    else:\n",
    "        return text"
   ]
  },
  {
   "cell_type": "markdown",
   "metadata": {},
   "source": [
    "#### For the sake of clear understanding we will divide clean_text function in seperate function."
   ]
  },
  {
   "cell_type": "markdown",
   "metadata": {},
   "source": [
    "### Function 1: Remove Symbols and Numbers\n",
    "\n",
    "This function removes all symbols and numbers from the text, leaving only alphabetic characters. This step is important to ensure that the text data is clean and only contains meaningful words."
   ]
  },
  {
   "cell_type": "code",
   "execution_count": 13,
   "metadata": {},
   "outputs": [],
   "source": [
    "def remove_symbols_numbers(text):\n",
    "    # Remove symbols and numbers\n",
    "    if isinstance(text, str):\n",
    "        text = re.sub(r'[^a-zA-Z\\s]', '', text)\n",
    "        return text\n",
    "    else:\n",
    "        return text"
   ]
  },
  {
   "cell_type": "markdown",
   "metadata": {},
   "source": [
    "#### Function 2: Convert Text to Lowercase\n",
    "This function converts all characters in the text to lowercase to ensure consistency.\n"
   ]
  },
  {
   "cell_type": "code",
   "execution_count": 14,
   "metadata": {},
   "outputs": [],
   "source": [
    "def to_lowercase(text):\n",
    "    # Convert text to lowercase\n",
    "    if isinstance(text, str):\n",
    "        text = text.lower()\n",
    "        return text\n",
    "    else:\n",
    "        return text"
   ]
  },
  {
   "cell_type": "markdown",
   "metadata": {},
   "source": [
    "#### Function 3: Remove Stopwords\n",
    "This function removes stopwords from the text, which are common words that may not contribute significant meaning.\n"
   ]
  },
  {
   "cell_type": "code",
   "execution_count": 15,
   "metadata": {},
   "outputs": [],
   "source": [
    "stop_words = set(stopwords.words('english'))\n",
    "\n",
    "def remove_stopwords(text):\n",
    "    # Remove stop words\n",
    "    if isinstance(text, str):\n",
    "        text = ' '.join(word for word in text.split() if word not in stop_words)\n",
    "        return text\n",
    "    else:\n",
    "        return text"
   ]
  },
  {
   "cell_type": "markdown",
   "metadata": {},
   "source": [
    "## Step 3.3: Load the data"
   ]
  },
  {
   "cell_type": "code",
   "execution_count": 85,
   "metadata": {},
   "outputs": [],
   "source": [
    "# Load the data\n",
    "data = pd.read_csv('Gender_cleaned_data.csv',encoding='latin1')"
   ]
  },
  {
   "cell_type": "code",
   "execution_count": 86,
   "metadata": {},
   "outputs": [
    {
     "data": {
      "text/html": [
       "<div>\n",
       "<style scoped>\n",
       "    .dataframe tbody tr th:only-of-type {\n",
       "        vertical-align: middle;\n",
       "    }\n",
       "\n",
       "    .dataframe tbody tr th {\n",
       "        vertical-align: top;\n",
       "    }\n",
       "\n",
       "    .dataframe thead th {\n",
       "        text-align: right;\n",
       "    }\n",
       "</style>\n",
       "<table border=\"1\" class=\"dataframe\">\n",
       "  <thead>\n",
       "    <tr style=\"text-align: right;\">\n",
       "      <th></th>\n",
       "      <th>gender</th>\n",
       "      <th>description</th>\n",
       "    </tr>\n",
       "  </thead>\n",
       "  <tbody>\n",
       "    <tr>\n",
       "      <th>0</th>\n",
       "      <td>male</td>\n",
       "      <td>i sing my own rhythm.</td>\n",
       "    </tr>\n",
       "    <tr>\n",
       "      <th>1</th>\n",
       "      <td>male</td>\n",
       "      <td>I'm the author of novels filled with family dr...</td>\n",
       "    </tr>\n",
       "    <tr>\n",
       "      <th>2</th>\n",
       "      <td>male</td>\n",
       "      <td>louis whining and squealing and all</td>\n",
       "    </tr>\n",
       "    <tr>\n",
       "      <th>3</th>\n",
       "      <td>male</td>\n",
       "      <td>Mobile guy.  49ers, Shazam, Google, Kleiner Pe...</td>\n",
       "    </tr>\n",
       "    <tr>\n",
       "      <th>4</th>\n",
       "      <td>female</td>\n",
       "      <td>Ricky Wilson The Best FRONTMAN/Kaiser Chiefs T...</td>\n",
       "    </tr>\n",
       "  </tbody>\n",
       "</table>\n",
       "</div>"
      ],
      "text/plain": [
       "   gender                                        description\n",
       "0    male                              i sing my own rhythm.\n",
       "1    male  I'm the author of novels filled with family dr...\n",
       "2    male                louis whining and squealing and all\n",
       "3    male  Mobile guy.  49ers, Shazam, Google, Kleiner Pe...\n",
       "4  female  Ricky Wilson The Best FRONTMAN/Kaiser Chiefs T..."
      ]
     },
     "execution_count": 86,
     "metadata": {},
     "output_type": "execute_result"
    }
   ],
   "source": [
    "data.head()"
   ]
  },
  {
   "cell_type": "markdown",
   "metadata": {},
   "source": [
    "## Step 3.4: Drop rows with NaN values in the text column"
   ]
  },
  {
   "cell_type": "markdown",
   "metadata": {},
   "source": [
    "### Handling NaN Values in the Text Column\n",
    "\n",
    "#### Definition of NaN Values\n",
    "NaN stands for \"Not a Number\" and is used to represent missing or undefined values in a dataset. In the context of text data, NaN values indicate that a particular entry in the text column is missing or empty.\n",
    "\n",
    "#### Purpose of Dropping Rows with NaN Values\n",
    "Dropping rows with NaN values is an essential pre-processing step to ensure that the dataset is clean and complete. Working with incomplete data can lead to errors and unreliable results in text analysis and machine learning models. By removing rows with NaN values, we can:\n",
    "\n",
    "1. **Ensure Data Quality**: Removing incomplete data entries helps maintain the integrity and quality of the dataset.\n",
    "2. **Prevent Errors**: Many text processing functions and machine learning algorithms cannot handle NaN values and will raise errors if they encounter them.\n",
    "3. **Improve Model Performance**: Clean and complete data contributes to more accurate and reliable model performance.\n"
   ]
  },
  {
   "cell_type": "code",
   "execution_count": 88,
   "metadata": {},
   "outputs": [
    {
     "name": "stdout",
     "output_type": "stream",
     "text": [
      "20050\n"
     ]
    }
   ],
   "source": [
    "# Sample data without Droping Rows with NAN Values\n",
    "print(len(data))\n"
   ]
  },
  {
   "cell_type": "code",
   "execution_count": 89,
   "metadata": {},
   "outputs": [],
   "source": [
    "# Drop rows with NaN values in the text column\n",
    "data = data.dropna(subset=['description'])"
   ]
  },
  {
   "cell_type": "code",
   "execution_count": 90,
   "metadata": {},
   "outputs": [
    {
     "name": "stdout",
     "output_type": "stream",
     "text": [
      "16306\n"
     ]
    }
   ],
   "source": [
    "# Sample data After Droping Rows with NAN Values\n",
    "print(len(data))"
   ]
  },
  {
   "cell_type": "markdown",
   "metadata": {},
   "source": [
    "## Step 3.5: Apply Data Cleaning\n",
    "Remove symbol and numbers \n",
    "Data in original format"
   ]
  },
  {
   "cell_type": "code",
   "execution_count": 91,
   "metadata": {},
   "outputs": [
    {
     "data": {
      "text/plain": [
       "0      male\n",
       "1      male\n",
       "2      male\n",
       "3      male\n",
       "4    female\n",
       "Name: gender, dtype: object"
      ]
     },
     "execution_count": 91,
     "metadata": {},
     "output_type": "execute_result"
    }
   ],
   "source": [
    "data['gender'].head()\n"
   ]
  },
  {
   "cell_type": "markdown",
   "metadata": {},
   "source": [
    "### Apply function to remove symbols and numbers"
   ]
  },
  {
   "cell_type": "code",
   "execution_count": 95,
   "metadata": {},
   "outputs": [],
   "source": [
    "data['description'] = data['description'].apply(remove_symbols_numbers)\n"
   ]
  },
  {
   "cell_type": "markdown",
   "metadata": {},
   "source": [
    "### See data again to see the implementation of removal of symbols and numbers"
   ]
  },
  {
   "cell_type": "code",
   "execution_count": 96,
   "metadata": {},
   "outputs": [
    {
     "data": {
      "text/plain": [
       "0                                 i sing my own rhythm\n",
       "1    Im the author of novels filled with family dra...\n",
       "2                  louis whining and squealing and all\n",
       "3    Mobile guy  ers Shazam Google Kleiner Perkins ...\n",
       "4    Ricky Wilson The Best FRONTMANKaiser Chiefs Th...\n",
       "Name: description, dtype: object"
      ]
     },
     "execution_count": 96,
     "metadata": {},
     "output_type": "execute_result"
    }
   ],
   "source": [
    "data['description'].head()\n"
   ]
  },
  {
   "cell_type": "markdown",
   "metadata": {},
   "source": [
    "### Apply function to convert to lower case"
   ]
  },
  {
   "cell_type": "code",
   "execution_count": 98,
   "metadata": {},
   "outputs": [],
   "source": [
    "data['description'] = data['description'].apply(to_lowercase)"
   ]
  },
  {
   "cell_type": "code",
   "execution_count": 99,
   "metadata": {},
   "outputs": [
    {
     "data": {
      "text/plain": [
       "0                                 i sing my own rhythm\n",
       "1    im the author of novels filled with family dra...\n",
       "2                  louis whining and squealing and all\n",
       "3    mobile guy  ers shazam google kleiner perkins ...\n",
       "4    ricky wilson the best frontmankaiser chiefs th...\n",
       "Name: description, dtype: object"
      ]
     },
     "execution_count": 99,
     "metadata": {},
     "output_type": "execute_result"
    }
   ],
   "source": [
    "data['description'].head()"
   ]
  },
  {
   "cell_type": "markdown",
   "metadata": {},
   "source": [
    "### Apply function to remove stop words"
   ]
  },
  {
   "cell_type": "code",
   "execution_count": 100,
   "metadata": {},
   "outputs": [],
   "source": [
    "data['description'] = data['description'].apply(remove_stopwords)"
   ]
  },
  {
   "cell_type": "code",
   "execution_count": 101,
   "metadata": {},
   "outputs": [
    {
     "data": {
      "text/plain": [
       "0                                          sing rhythm\n",
       "1         im author novels filled family drama romance\n",
       "2                              louis whining squealing\n",
       "3    mobile guy ers shazam google kleiner perkins y...\n",
       "4    ricky wilson best frontmankaiser chiefs best b...\n",
       "Name: description, dtype: object"
      ]
     },
     "execution_count": 101,
     "metadata": {},
     "output_type": "execute_result"
    }
   ],
   "source": [
    "data['description'].head()"
   ]
  },
  {
   "cell_type": "markdown",
   "metadata": {},
   "source": [
    "### Following function contains the all three tasks for the sake of simplicity we dividied it in three parts."
   ]
  },
  {
   "cell_type": "markdown",
   "metadata": {},
   "source": [
    "## Step 3.6: Data After Processing"
   ]
  },
  {
   "cell_type": "code",
   "execution_count": 102,
   "metadata": {},
   "outputs": [
    {
     "name": "stdout",
     "output_type": "stream",
     "text": [
      "\n",
      "\n",
      "Gender Identification Data After Preprocessing:\n",
      "=================================================\n",
      "\n",
      "   gender                                        description\n",
      "0    male                                        sing rhythm\n",
      "1    male       im author novels filled family drama romance\n",
      "2    male                            louis whining squealing\n",
      "3    male  mobile guy ers shazam google kleiner perkins y...\n",
      "4  female  ricky wilson best frontmankaiser chiefs best b...\n"
     ]
    }
   ],
   "source": [
    "\n",
    "print(\"\\n\\nGender Identification Data After Preprocessing:\")\n",
    "print(\"=================================================\\n\")\n",
    "pd.set_option(\"display.max_rows\", None, \"display.max_columns\", None)\n",
    "\n",
    "print(data.head())\n"
   ]
  },
  {
   "cell_type": "markdown",
   "metadata": {},
   "source": [
    "### We have to show tweet first and than to show the sentiment type to make things standardized"
   ]
  },
  {
   "cell_type": "code",
   "execution_count": 104,
   "metadata": {},
   "outputs": [
    {
     "data": {
      "text/html": [
       "<div>\n",
       "<style scoped>\n",
       "    .dataframe tbody tr th:only-of-type {\n",
       "        vertical-align: middle;\n",
       "    }\n",
       "\n",
       "    .dataframe tbody tr th {\n",
       "        vertical-align: top;\n",
       "    }\n",
       "\n",
       "    .dataframe thead th {\n",
       "        text-align: right;\n",
       "    }\n",
       "</style>\n",
       "<table border=\"1\" class=\"dataframe\">\n",
       "  <thead>\n",
       "    <tr style=\"text-align: right;\">\n",
       "      <th></th>\n",
       "      <th>gender</th>\n",
       "      <th>description</th>\n",
       "    </tr>\n",
       "  </thead>\n",
       "  <tbody>\n",
       "    <tr>\n",
       "      <th>16247</th>\n",
       "      <td>male</td>\n",
       "      <td>tangled bromean knots</td>\n",
       "    </tr>\n",
       "    <tr>\n",
       "      <th>14016</th>\n",
       "      <td>male</td>\n",
       "      <td>rip karl p nursing major txst</td>\n",
       "    </tr>\n",
       "    <tr>\n",
       "      <th>14786</th>\n",
       "      <td>male</td>\n",
       "      <td>madafuckers never satisfied youll lose mind fr...</td>\n",
       "    </tr>\n",
       "    <tr>\n",
       "      <th>8958</th>\n",
       "      <td>male</td>\n",
       "      <td>ig alonzo sc amartinez</td>\n",
       "    </tr>\n",
       "    <tr>\n",
       "      <th>18236</th>\n",
       "      <td>male</td>\n",
       "      <td>proud hamptonu softball dad happy hubby pallia...</td>\n",
       "    </tr>\n",
       "    <tr>\n",
       "      <th>15215</th>\n",
       "      <td>male</td>\n",
       "      <td>kvm politiek dakloos mechelen</td>\n",
       "    </tr>\n",
       "    <tr>\n",
       "      <th>10755</th>\n",
       "      <td>male</td>\n",
       "      <td>sports science student costa barista penguin e...</td>\n",
       "    </tr>\n",
       "    <tr>\n",
       "      <th>557</th>\n",
       "      <td>male</td>\n",
       "      <td>herb gardening proven method grow herbs inside...</td>\n",
       "    </tr>\n",
       "    <tr>\n",
       "      <th>96</th>\n",
       "      <td>male</td>\n",
       "      <td>calm cool</td>\n",
       "    </tr>\n",
       "    <tr>\n",
       "      <th>1865</th>\n",
       "      <td>male</td>\n",
       "      <td>idealist history buff whiskey connoisseur geek...</td>\n",
       "    </tr>\n",
       "    <tr>\n",
       "      <th>9364</th>\n",
       "      <td>male</td>\n",
       "      <td>hello make videos follow musically antonkhrebt...</td>\n",
       "    </tr>\n",
       "    <tr>\n",
       "      <th>8605</th>\n",
       "      <td>male</td>\n",
       "      <td>im twitter bot tweeting english posts francois...</td>\n",
       "    </tr>\n",
       "    <tr>\n",
       "      <th>9242</th>\n",
       "      <td>male</td>\n",
       "      <td>digital marketer tweet sportsphoenixtech uofar...</td>\n",
       "    </tr>\n",
       "    <tr>\n",
       "      <th>6900</th>\n",
       "      <td>male</td>\n",
       "      <td>knowin nothing life legit dont quote boy cuz a...</td>\n",
       "    </tr>\n",
       "    <tr>\n",
       "      <th>3961</th>\n",
       "      <td>male</td>\n",
       "      <td>humble trying bring back flavor music lacking ...</td>\n",
       "    </tr>\n",
       "    <tr>\n",
       "      <th>3958</th>\n",
       "      <td>male</td>\n",
       "      <td>always respect lady teamunited new bb pin ad</td>\n",
       "    </tr>\n",
       "    <tr>\n",
       "      <th>4712</th>\n",
       "      <td>male</td>\n",
       "      <td>perfect combination ti jr smith blanketed thin...</td>\n",
       "    </tr>\n",
       "    <tr>\n",
       "      <th>10457</th>\n",
       "      <td>male</td>\n",
       "      <td>smoke trees im knees cook steak n grill cheese</td>\n",
       "    </tr>\n",
       "    <tr>\n",
       "      <th>2789</th>\n",
       "      <td>male</td>\n",
       "      <td>proud player gunitgaming lan experience</td>\n",
       "    </tr>\n",
       "    <tr>\n",
       "      <th>17838</th>\n",
       "      <td>male</td>\n",
       "      <td>im highly versatile adaptable professional pro...</td>\n",
       "    </tr>\n",
       "    <tr>\n",
       "      <th>18325</th>\n",
       "      <td>male</td>\n",
       "      <td>internist medical educator doctors trainings u...</td>\n",
       "    </tr>\n",
       "    <tr>\n",
       "      <th>8174</th>\n",
       "      <td>male</td>\n",
       "      <td>curly boy cheshire reason</td>\n",
       "    </tr>\n",
       "    <tr>\n",
       "      <th>16054</th>\n",
       "      <td>male</td>\n",
       "      <td>son classicrevenge</td>\n",
       "    </tr>\n",
       "    <tr>\n",
       "      <th>13080</th>\n",
       "      <td>male</td>\n",
       "      <td>gear</td>\n",
       "    </tr>\n",
       "    <tr>\n",
       "      <th>16329</th>\n",
       "      <td>male</td>\n",
       "      <td>former shea stadium vendor mets cowboys fan es...</td>\n",
       "    </tr>\n",
       "    <tr>\n",
       "      <th>1436</th>\n",
       "      <td>male</td>\n",
       "      <td>hyan rudson coffee lover owner huge feet ferga...</td>\n",
       "    </tr>\n",
       "    <tr>\n",
       "      <th>4349</th>\n",
       "      <td>male</td>\n",
       "      <td>ceo hos gang bbm behoe tool follow know</td>\n",
       "    </tr>\n",
       "    <tr>\n",
       "      <th>12569</th>\n",
       "      <td>male</td>\n",
       "      <td>st team allpsp dabble dog food game pspgang</td>\n",
       "    </tr>\n",
       "    <tr>\n",
       "      <th>3074</th>\n",
       "      <td>male</td>\n",
       "      <td>ryerson ted rogers school management knickstap...</td>\n",
       "    </tr>\n",
       "    <tr>\n",
       "      <th>16752</th>\n",
       "      <td>male</td>\n",
       "      <td>harmauetials grve world</td>\n",
       "    </tr>\n",
       "    <tr>\n",
       "      <th>8668</th>\n",
       "      <td>male</td>\n",
       "      <td>better</td>\n",
       "    </tr>\n",
       "    <tr>\n",
       "      <th>18504</th>\n",
       "      <td>male</td>\n",
       "      <td>mortgage insurance adviser based gosforthtweet...</td>\n",
       "    </tr>\n",
       "    <tr>\n",
       "      <th>17954</th>\n",
       "      <td>male</td>\n",
       "      <td>havent heard probably dont spend enough time a...</td>\n",
       "    </tr>\n",
       "    <tr>\n",
       "      <th>262</th>\n",
       "      <td>male</td>\n",
       "      <td>doesnt matter slow go long dont stop westfield...</td>\n",
       "    </tr>\n",
       "    <tr>\n",
       "      <th>9293</th>\n",
       "      <td>male</td>\n",
       "      <td>passionate plantbased son husband father twin ...</td>\n",
       "    </tr>\n",
       "    <tr>\n",
       "      <th>12896</th>\n",
       "      <td>male</td>\n",
       "      <td>god x music x arsenalfc httpstcoeobxztcna beb</td>\n",
       "    </tr>\n",
       "    <tr>\n",
       "      <th>2829</th>\n",
       "      <td>male</td>\n",
       "      <td>let past go</td>\n",
       "    </tr>\n",
       "    <tr>\n",
       "      <th>16062</th>\n",
       "      <td>male</td>\n",
       "      <td>lucas wyrsch networker enterprise risk managem...</td>\n",
       "    </tr>\n",
       "    <tr>\n",
       "      <th>9577</th>\n",
       "      <td>male</td>\n",
       "      <td>im still mom among group friends</td>\n",
       "    </tr>\n",
       "    <tr>\n",
       "      <th>4954</th>\n",
       "      <td>male</td>\n",
       "      <td>full creative control management chrisfullcrea...</td>\n",
       "    </tr>\n",
       "    <tr>\n",
       "      <th>6406</th>\n",
       "      <td>male</td>\n",
       "      <td>dnt judge lookstushrugged living life regretsb...</td>\n",
       "    </tr>\n",
       "    <tr>\n",
       "      <th>15935</th>\n",
       "      <td>male</td>\n",
       "      <td>patrick siyr secretary sports fanatic im big s...</td>\n",
       "    </tr>\n",
       "    <tr>\n",
       "      <th>13001</th>\n",
       "      <td>male</td>\n",
       "      <td>music fashionsportphotographyshopping</td>\n",
       "    </tr>\n",
       "    <tr>\n",
       "      <th>6325</th>\n",
       "      <td>male</td>\n",
       "      <td>ex hippie vietnam vet wants make life better s...</td>\n",
       "    </tr>\n",
       "    <tr>\n",
       "      <th>12802</th>\n",
       "      <td>male</td>\n",
       "      <td>short dick</td>\n",
       "    </tr>\n",
       "    <tr>\n",
       "      <th>11275</th>\n",
       "      <td>male</td>\n",
       "      <td>ifb church planting missionary ukpastor saronc...</td>\n",
       "    </tr>\n",
       "    <tr>\n",
       "      <th>8423</th>\n",
       "      <td>male</td>\n",
       "      <td>actor writer strangler</td>\n",
       "    </tr>\n",
       "    <tr>\n",
       "      <th>5328</th>\n",
       "      <td>male</td>\n",
       "      <td>sycegame og traphouse forsyth st sw serial ent...</td>\n",
       "    </tr>\n",
       "    <tr>\n",
       "      <th>3903</th>\n",
       "      <td>male</td>\n",
       "      <td>pick friends eskimo brothers</td>\n",
       "    </tr>\n",
       "    <tr>\n",
       "      <th>1703</th>\n",
       "      <td>male</td>\n",
       "      <td>storage geek years experience storage works in...</td>\n",
       "    </tr>\n",
       "    <tr>\n",
       "      <th>13161</th>\n",
       "      <td>female</td>\n",
       "      <td>music makeup adventure</td>\n",
       "    </tr>\n",
       "    <tr>\n",
       "      <th>11296</th>\n",
       "      <td>female</td>\n",
       "      <td>louisandharry look way look mcdonalds pewdiepi...</td>\n",
       "    </tr>\n",
       "    <tr>\n",
       "      <th>18305</th>\n",
       "      <td>female</td>\n",
       "      <td>argue know im right im always arguing</td>\n",
       "    </tr>\n",
       "    <tr>\n",
       "      <th>2193</th>\n",
       "      <td>female</td>\n",
       "      <td>walking deadolivia httptcocjunyusoxu twd walki...</td>\n",
       "    </tr>\n",
       "    <tr>\n",
       "      <th>17241</th>\n",
       "      <td>female</td>\n",
       "      <td>southern roots crimson soul bama passion thats...</td>\n",
       "    </tr>\n",
       "    <tr>\n",
       "      <th>14009</th>\n",
       "      <td>female</td>\n",
       "      <td>dont worry</td>\n",
       "    </tr>\n",
       "    <tr>\n",
       "      <th>16374</th>\n",
       "      <td>female</td>\n",
       "      <td>hello im dalia send naked selfies</td>\n",
       "    </tr>\n",
       "    <tr>\n",
       "      <th>1186</th>\n",
       "      <td>female</td>\n",
       "      <td>golden</td>\n",
       "    </tr>\n",
       "    <tr>\n",
       "      <th>8661</th>\n",
       "      <td>female</td>\n",
       "      <td>mbbs frcs cth fetcs clinical lead mother happi...</td>\n",
       "    </tr>\n",
       "    <tr>\n",
       "      <th>13152</th>\n",
       "      <td>female</td>\n",
       "      <td>work classic rock radio station big bon jovi s...</td>\n",
       "    </tr>\n",
       "    <tr>\n",
       "      <th>16703</th>\n",
       "      <td>female</td>\n",
       "      <td>say youll remember standing nice dress staring...</td>\n",
       "    </tr>\n",
       "    <tr>\n",
       "      <th>16286</th>\n",
       "      <td>female</td>\n",
       "      <td>happily taken</td>\n",
       "    </tr>\n",
       "    <tr>\n",
       "      <th>1916</th>\n",
       "      <td>female</td>\n",
       "      <td>love peace happy comedian</td>\n",
       "    </tr>\n",
       "    <tr>\n",
       "      <th>18042</th>\n",
       "      <td>female</td>\n",
       "      <td>california grown bay area news reporter kwqc d...</td>\n",
       "    </tr>\n",
       "    <tr>\n",
       "      <th>10690</th>\n",
       "      <td>female</td>\n",
       "      <td>bba actg mktg cpa campaign law worked barack o...</td>\n",
       "    </tr>\n",
       "    <tr>\n",
       "      <th>578</th>\n",
       "      <td>female</td>\n",
       "      <td>quiero un amor bonito de esos que te dan marip...</td>\n",
       "    </tr>\n",
       "    <tr>\n",
       "      <th>8028</th>\n",
       "      <td>female</td>\n",
       "      <td>speak mind love love things lovelee thatisall ...</td>\n",
       "    </tr>\n",
       "    <tr>\n",
       "      <th>312</th>\n",
       "      <td>female</td>\n",
       "      <td>waiting gandalf come house invite adventure ex...</td>\n",
       "    </tr>\n",
       "    <tr>\n",
       "      <th>14463</th>\n",
       "      <td>female</td>\n",
       "      <td>writer romance urban fantasy comics intersecti...</td>\n",
       "    </tr>\n",
       "    <tr>\n",
       "      <th>6951</th>\n",
       "      <td>female</td>\n",
       "      <td>showjumper surrey</td>\n",
       "    </tr>\n",
       "    <tr>\n",
       "      <th>19099</th>\n",
       "      <td>female</td>\n",
       "      <td>im sports mad scifi loving bookreading filmwat...</td>\n",
       "    </tr>\n",
       "    <tr>\n",
       "      <th>5576</th>\n",
       "      <td>female</td>\n",
       "      <td>snap amonutella melhor cena de sempre</td>\n",
       "    </tr>\n",
       "    <tr>\n",
       "      <th>16738</th>\n",
       "      <td>female</td>\n",
       "      <td>dogs im scorpio</td>\n",
       "    </tr>\n",
       "    <tr>\n",
       "      <th>17616</th>\n",
       "      <td>female</td>\n",
       "      <td>one indias premiere pr agencies specialise ima...</td>\n",
       "    </tr>\n",
       "    <tr>\n",
       "      <th>4297</th>\n",
       "      <td>female</td>\n",
       "      <td>mommy perfect babygirl raylynn amelia</td>\n",
       "    </tr>\n",
       "    <tr>\n",
       "      <th>11914</th>\n",
       "      <td>female</td>\n",
       "      <td>nutrition fitness sf csun</td>\n",
       "    </tr>\n",
       "    <tr>\n",
       "      <th>5659</th>\n",
       "      <td>female</td>\n",
       "      <td>professional assistant academic publishing wor...</td>\n",
       "    </tr>\n",
       "    <tr>\n",
       "      <th>3849</th>\n",
       "      <td>female</td>\n",
       "      <td>kiss underneath moonlight</td>\n",
       "    </tr>\n",
       "    <tr>\n",
       "      <th>6733</th>\n",
       "      <td>female</td>\n",
       "      <td>name stephanie n fountain im better known nikk...</td>\n",
       "    </tr>\n",
       "    <tr>\n",
       "      <th>1907</th>\n",
       "      <td>female</td>\n",
       "      <td>greater intelligence kindness empathy bryant m...</td>\n",
       "    </tr>\n",
       "    <tr>\n",
       "      <th>2730</th>\n",
       "      <td>female</td>\n",
       "      <td>page show love remarkable patriciaheaton love ...</td>\n",
       "    </tr>\n",
       "    <tr>\n",
       "      <th>6839</th>\n",
       "      <td>female</td>\n",
       "      <td>im princess dont need saving im queen got shit...</td>\n",
       "    </tr>\n",
       "    <tr>\n",
       "      <th>8800</th>\n",
       "      <td>female</td>\n",
       "      <td>life hats cats</td>\n",
       "    </tr>\n",
       "    <tr>\n",
       "      <th>16604</th>\n",
       "      <td>female</td>\n",
       "      <td>im big girl dawg iraqi seth rollins defense sq...</td>\n",
       "    </tr>\n",
       "    <tr>\n",
       "      <th>2611</th>\n",
       "      <td>female</td>\n",
       "      <td>canadian filmmaking student leo french films</td>\n",
       "    </tr>\n",
       "    <tr>\n",
       "      <th>18696</th>\n",
       "      <td>female</td>\n",
       "      <td>im kelly im missouri im music fan love true lo...</td>\n",
       "    </tr>\n",
       "    <tr>\n",
       "      <th>8429</th>\n",
       "      <td>female</td>\n",
       "      <td>heather jess prettiest princess land x mcavoys...</td>\n",
       "    </tr>\n",
       "    <tr>\n",
       "      <th>12734</th>\n",
       "      <td>female</td>\n",
       "      <td>best talkradio healthcoach lifecoach businessc...</td>\n",
       "    </tr>\n",
       "    <tr>\n",
       "      <th>16550</th>\n",
       "      <td>female</td>\n",
       "      <td>indianborn british author multicultural books ...</td>\n",
       "    </tr>\n",
       "    <tr>\n",
       "      <th>14344</th>\n",
       "      <td>female</td>\n",
       "      <td>photographer storyteller roanoketimes</td>\n",
       "    </tr>\n",
       "    <tr>\n",
       "      <th>8544</th>\n",
       "      <td>female</td>\n",
       "      <td>teaching businesses say boring content host am...</td>\n",
       "    </tr>\n",
       "    <tr>\n",
       "      <th>14223</th>\n",
       "      <td>female</td>\n",
       "      <td>anna</td>\n",
       "    </tr>\n",
       "    <tr>\n",
       "      <th>13762</th>\n",
       "      <td>female</td>\n",
       "      <td>mother wifeactress model writer infertility ov...</td>\n",
       "    </tr>\n",
       "    <tr>\n",
       "      <th>16644</th>\n",
       "      <td>female</td>\n",
       "      <td>handmade jam chutney marmalade retail trade ta...</td>\n",
       "    </tr>\n",
       "    <tr>\n",
       "      <th>15742</th>\n",
       "      <td>female</td>\n",
       "      <td>cc</td>\n",
       "    </tr>\n",
       "    <tr>\n",
       "      <th>3354</th>\n",
       "      <td>female</td>\n",
       "      <td>product reviewer blogger mother beautiful huma...</td>\n",
       "    </tr>\n",
       "    <tr>\n",
       "      <th>12492</th>\n",
       "      <td>female</td>\n",
       "      <td>snapchat alanalewiss instagram alanalewiss</td>\n",
       "    </tr>\n",
       "    <tr>\n",
       "      <th>19902</th>\n",
       "      <td>female</td>\n",
       "      <td>boutique executive recruiting firm since midse...</td>\n",
       "    </tr>\n",
       "    <tr>\n",
       "      <th>18481</th>\n",
       "      <td>female</td>\n",
       "      <td>writer rose strickland mystery series beauty b...</td>\n",
       "    </tr>\n",
       "    <tr>\n",
       "      <th>4535</th>\n",
       "      <td>female</td>\n",
       "      <td>robyn sheher bristol stars oilers flyers habs</td>\n",
       "    </tr>\n",
       "  </tbody>\n",
       "</table>\n",
       "</div>"
      ],
      "text/plain": [
       "       gender                                        description\n",
       "16247    male                              tangled bromean knots\n",
       "14016    male                      rip karl p nursing major txst\n",
       "14786    male  madafuckers never satisfied youll lose mind fr...\n",
       "8958     male                             ig alonzo sc amartinez\n",
       "18236    male  proud hamptonu softball dad happy hubby pallia...\n",
       "15215    male                      kvm politiek dakloos mechelen\n",
       "10755    male  sports science student costa barista penguin e...\n",
       "557      male  herb gardening proven method grow herbs inside...\n",
       "96       male                                          calm cool\n",
       "1865     male  idealist history buff whiskey connoisseur geek...\n",
       "9364     male  hello make videos follow musically antonkhrebt...\n",
       "8605     male  im twitter bot tweeting english posts francois...\n",
       "9242     male  digital marketer tweet sportsphoenixtech uofar...\n",
       "6900     male  knowin nothing life legit dont quote boy cuz a...\n",
       "3961     male  humble trying bring back flavor music lacking ...\n",
       "3958     male       always respect lady teamunited new bb pin ad\n",
       "4712     male  perfect combination ti jr smith blanketed thin...\n",
       "10457    male     smoke trees im knees cook steak n grill cheese\n",
       "2789     male            proud player gunitgaming lan experience\n",
       "17838    male  im highly versatile adaptable professional pro...\n",
       "18325    male  internist medical educator doctors trainings u...\n",
       "8174     male                          curly boy cheshire reason\n",
       "16054    male                                 son classicrevenge\n",
       "13080    male                                               gear\n",
       "16329    male  former shea stadium vendor mets cowboys fan es...\n",
       "1436     male  hyan rudson coffee lover owner huge feet ferga...\n",
       "4349     male            ceo hos gang bbm behoe tool follow know\n",
       "12569    male        st team allpsp dabble dog food game pspgang\n",
       "3074     male  ryerson ted rogers school management knickstap...\n",
       "16752    male                            harmauetials grve world\n",
       "8668     male                                             better\n",
       "18504    male  mortgage insurance adviser based gosforthtweet...\n",
       "17954    male  havent heard probably dont spend enough time a...\n",
       "262      male  doesnt matter slow go long dont stop westfield...\n",
       "9293     male  passionate plantbased son husband father twin ...\n",
       "12896    male      god x music x arsenalfc httpstcoeobxztcna beb\n",
       "2829     male                                        let past go\n",
       "16062    male  lucas wyrsch networker enterprise risk managem...\n",
       "9577     male                   im still mom among group friends\n",
       "4954     male  full creative control management chrisfullcrea...\n",
       "6406     male  dnt judge lookstushrugged living life regretsb...\n",
       "15935    male  patrick siyr secretary sports fanatic im big s...\n",
       "13001    male              music fashionsportphotographyshopping\n",
       "6325     male  ex hippie vietnam vet wants make life better s...\n",
       "12802    male                                         short dick\n",
       "11275    male  ifb church planting missionary ukpastor saronc...\n",
       "8423     male                             actor writer strangler\n",
       "5328     male  sycegame og traphouse forsyth st sw serial ent...\n",
       "3903     male                       pick friends eskimo brothers\n",
       "1703     male  storage geek years experience storage works in...\n",
       "13161  female                             music makeup adventure\n",
       "11296  female  louisandharry look way look mcdonalds pewdiepi...\n",
       "18305  female              argue know im right im always arguing\n",
       "2193   female  walking deadolivia httptcocjunyusoxu twd walki...\n",
       "17241  female  southern roots crimson soul bama passion thats...\n",
       "14009  female                                         dont worry\n",
       "16374  female                  hello im dalia send naked selfies\n",
       "1186   female                                             golden\n",
       "8661   female  mbbs frcs cth fetcs clinical lead mother happi...\n",
       "13152  female  work classic rock radio station big bon jovi s...\n",
       "16703  female  say youll remember standing nice dress staring...\n",
       "16286  female                                      happily taken\n",
       "1916   female                          love peace happy comedian\n",
       "18042  female  california grown bay area news reporter kwqc d...\n",
       "10690  female  bba actg mktg cpa campaign law worked barack o...\n",
       "578    female  quiero un amor bonito de esos que te dan marip...\n",
       "8028   female  speak mind love love things lovelee thatisall ...\n",
       "312    female  waiting gandalf come house invite adventure ex...\n",
       "14463  female  writer romance urban fantasy comics intersecti...\n",
       "6951   female                                  showjumper surrey\n",
       "19099  female  im sports mad scifi loving bookreading filmwat...\n",
       "5576   female              snap amonutella melhor cena de sempre\n",
       "16738  female                                    dogs im scorpio\n",
       "17616  female  one indias premiere pr agencies specialise ima...\n",
       "4297   female              mommy perfect babygirl raylynn amelia\n",
       "11914  female                          nutrition fitness sf csun\n",
       "5659   female  professional assistant academic publishing wor...\n",
       "3849   female                          kiss underneath moonlight\n",
       "6733   female  name stephanie n fountain im better known nikk...\n",
       "1907   female  greater intelligence kindness empathy bryant m...\n",
       "2730   female  page show love remarkable patriciaheaton love ...\n",
       "6839   female  im princess dont need saving im queen got shit...\n",
       "8800   female                                     life hats cats\n",
       "16604  female  im big girl dawg iraqi seth rollins defense sq...\n",
       "2611   female       canadian filmmaking student leo french films\n",
       "18696  female  im kelly im missouri im music fan love true lo...\n",
       "8429   female  heather jess prettiest princess land x mcavoys...\n",
       "12734  female  best talkradio healthcoach lifecoach businessc...\n",
       "16550  female  indianborn british author multicultural books ...\n",
       "14344  female              photographer storyteller roanoketimes\n",
       "8544   female  teaching businesses say boring content host am...\n",
       "14223  female                                               anna\n",
       "13762  female  mother wifeactress model writer infertility ov...\n",
       "16644  female  handmade jam chutney marmalade retail trade ta...\n",
       "15742  female                                                 cc\n",
       "3354   female  product reviewer blogger mother beautiful huma...\n",
       "12492  female         snapchat alanalewiss instagram alanalewiss\n",
       "19902  female  boutique executive recruiting firm since midse...\n",
       "18481  female  writer rose strickland mystery series beauty b...\n",
       "4535   female      robyn sheher bristol stars oilers flyers habs"
      ]
     },
     "execution_count": 104,
     "metadata": {},
     "output_type": "execute_result"
    }
   ],
   "source": [
    "# Now we only have to select 100 instances from the data(50 for male and 50 for female)\n",
    "male_instances = data[data['gender'] == 'male'].sample(50,random_state=42)\n",
    "female_instances = data[data['gender'] == 'female'].sample(50,random_state=42)\n",
    "\n",
    "updated_data = pd.concat([male_instances,female_instances])\n",
    "updated_data"
   ]
  },
  {
   "cell_type": "markdown",
   "metadata": {},
   "source": [
    "## Step 3.7: Saving Cleaned Data as Seperate CSV File\n"
   ]
  },
  {
   "cell_type": "code",
   "execution_count": 105,
   "metadata": {},
   "outputs": [],
   "source": [
    "updated_data.to_csv(\"cleaned_gender_data.csv\", index=False)"
   ]
  },
  {
   "cell_type": "code",
   "execution_count": 106,
   "metadata": {},
   "outputs": [
    {
     "data": {
      "text/plain": [
       "Index(['gender', 'description'], dtype='object')"
      ]
     },
     "execution_count": 106,
     "metadata": {},
     "output_type": "execute_result"
    }
   ],
   "source": [
    "updated_data.columns"
   ]
  },
  {
   "cell_type": "markdown",
   "metadata": {},
   "source": [
    "# Step 4: Splitting Sample Data into Training Data and Testing Data\n"
   ]
  },
  {
   "cell_type": "markdown",
   "metadata": {},
   "source": [
    "### Train-Test Split\n",
    "\n",
    "#### Purpose of Train-Test Split\n",
    "\n",
    "Splitting the dataset into training and testing sets is a crucial step in the machine learning pipeline. It allows us to train our model on one subset of the data and evaluate its performance on another, unseen subset. This helps in assessing the model's ability to generalize to new data.\n",
    "\n",
    "#### Why Split the Data First?\n",
    "\n",
    "Before we can train a machine learning model, we need to split the data into training and testing sets. This ensures that we can evaluate the model's performance on data it hasn't seen during training. Additionally, we need to train the vectorizer (such as TF-IDF) on the training data to convert text to numerical features. Training the vectorizer on the training data ensures that it learns the vocabulary and importance of terms from the training set only, preventing any data leakage from the test set.\n",
    "\n",
    "### TF-IDF Vectorization\n",
    "\n",
    "#### Definition of TF-IDF\n",
    "\n",
    "TF-IDF stands for Term Frequency-Inverse Document Frequency. It is a statistical measure used to evaluate the importance of a word in a document relative to a collection of documents (corpus). The TF-IDF score increases proportionally to the number of times a word appears in a document but is offset by the frequency of the word in the corpus.\n",
    "\n",
    "- **Term Frequency (TF)**: Measures how frequently a term occurs in a document. \n",
    "  - TF(t) = (Number of times term t appears in a document) / (Total number of terms in the document)\n",
    "\n",
    "- **Inverse Document Frequency (IDF)**: Measures how important a term is. \n",
    "  - IDF(t) = log_e(Total number of documents / Number of documents with term t in it)\n",
    "\n",
    "- **TF-IDF**: The product of TF and IDF.\n",
    "  - TF-IDF(t) = TF(t) * IDF(t)\n",
    "\n",
    "#### Reason for Selecting TF-IDF\n",
    "\n",
    "TF-IDF is selected for vectorizing the text data because it not only considers the frequency of words within a document (like Term Frequency) but also adjusts for the fact that some words are generally more common than others (Inverse Document Frequency). This helps in highlighting the more meaningful words in a document and downplaying the less informative ones. \n",
    "\n",
    "Using TF-IDF allows us to convert text data into numerical features that can be used to train machine learning models. This vectorization is essential for applying algorithms that require numerical input.\n",
    "\n",
    "For more details on TF-IDF, you can refer to the [scikit-learn documentation](https://scikit-learn.org/stable/modules/generated/sklearn.feature_extraction.text.TfidfVectorizer.html)."
   ]
  },
  {
   "cell_type": "markdown",
   "metadata": {},
   "source": [
    "### Splitting Data into Features and Labels\n",
    "\n",
    "In this step, we separate our data into features (X) and labels (y). The features (X) are the input data that the model will learn from, while the labels (y) are the target values that we want to predict.\n",
    "\n",
    "```python\n",
    "X = data['tweet']\n",
    "y = data['sentiment_type']\n"
   ]
  },
  {
   "cell_type": "code",
   "execution_count": 108,
   "metadata": {},
   "outputs": [],
   "source": [
    "data = pd.read_csv('cleaned_gender_data.csv')\n",
    "X = data['description']\n",
    "y = data['gender']\n",
    "\n",
    "X_train, X_test, y_train, y_test = train_test_split(X, y, test_size=0.2, random_state=42)"
   ]
  },
  {
   "cell_type": "markdown",
   "metadata": {},
   "source": [
    "### Explanation of Parameters\n",
    "\n",
    "- `train_test_split` is a function from the `sklearn.model_selection` module that splits the data into training and testing sets.\n",
    "- `X_train` and `y_train` are the features and labels for the training set.\n",
    "- `X_test` and `y_test` are the features and labels for the testing set.\n",
    "\n",
    "#### Parameters:\n",
    "\n",
    "1. **X and y**:\n",
    "   - `X`: The features or input data, which in this case is the 'tweet' column containing the text data.\n",
    "   - `y`: The labels or target values, which in this case is the 'sentiment_type' column indicating the sentiment of each tweet.\n",
    "\n",
    "2. **test_size**:\n",
    "   - `test_size=0.2` specifies that 20% of the data should be used as the testing set, and the remaining 80% will be used as the training set.\n",
    "   - The `test_size` parameter determines the proportion of the dataset to include in the test split. In this example, 0.2 means that 20% of the data will be allocated to the test set, and 80% will be allocated to the training set.\n",
    "   - Example: If the dataset contains 1000 samples, `test_size=0.2` means 800 samples will be used for training, and 200 samples will be used for testing.\n",
    "\n",
    "3. **random_state**:\n",
    "   - `random_state=42` ensures that the split is reproducible. Using the same `random_state` value will always result in the same split.\n",
    "   - The `random_state` parameter controls the shuffling applied to the data before applying the split. Providing a fixed value (e.g., 42) ensures that you get the same train-test split every time you run the code. This is useful for reproducibility and debugging.\n",
    "   - Example: If you set `random_state=42`, the data will be shuffled in the same way each time you run the code, resulting in the same training and testing sets.\n",
    "\n",
    "By performing this split, we ensure that we have separate datasets for training and evaluating our model, which is crucial for assessing the model's ability to generalize to new data.\n"
   ]
  },
  {
   "cell_type": "code",
   "execution_count": 109,
   "metadata": {},
   "outputs": [
    {
     "name": "stdout",
     "output_type": "stream",
     "text": [
      "80\n",
      "20\n"
     ]
    }
   ],
   "source": [
    "print(len(X_train))\n",
    "print(len(X_test))"
   ]
  },
  {
   "cell_type": "code",
   "execution_count": 110,
   "metadata": {},
   "outputs": [
    {
     "data": {
      "text/plain": [
       "55                                           dont worry\n",
       "88    indianborn british author multicultural books ...\n",
       "26              ceo hos gang bbm behoe tool follow know\n",
       "42                music fashionsportphotographyshopping\n",
       "69                                    showjumper surrey\n",
       "15         always respect lady teamunited new bb pin ad\n",
       "40    dnt judge lookstushrugged living life regretsb...\n",
       "96           snapchat alanalewiss instagram alanalewiss\n",
       "9     idealist history buff whiskey connoisseur geek...\n",
       "72                                      dogs im scorpio\n",
       "11    im twitter bot tweeting english posts francois...\n",
       "47    sycegame og traphouse forsyth st sw serial ent...\n",
       "85    im kelly im missouri im music fan love true lo...\n",
       "28    ryerson ted rogers school management knickstap...\n",
       "93    handmade jam chutney marmalade retail trade ta...\n",
       "5                         kvm politiek dakloos mechelen\n",
       "66    speak mind love love things lovelee thatisall ...\n",
       "65    quiero un amor bonito de esos que te dan marip...\n",
       "35        god x music x arsenalfc httpstcoeobxztcna beb\n",
       "16    perfect combination ti jr smith blanketed thin...\n",
       "49    storage geek years experience storage works in...\n",
       "34    passionate plantbased son husband father twin ...\n",
       "7     herb gardening proven method grow herbs inside...\n",
       "95    product reviewer blogger mother beautiful huma...\n",
       "27          st team allpsp dabble dog food game pspgang\n",
       "19    im highly versatile adaptable professional pro...\n",
       "81    im princess dont need saving im queen got shit...\n",
       "25    hyan rudson coffee lover owner huge feet ferga...\n",
       "62                            love peace happy comedian\n",
       "13    knowin nothing life legit dont quote boy cuz a...\n",
       "24    former shea stadium vendor mets cowboys fan es...\n",
       "3                                ig alonzo sc amartinez\n",
       "17       smoke trees im knees cook steak n grill cheese\n",
       "38                     im still mom among group friends\n",
       "8                                             calm cool\n",
       "78    name stephanie n fountain im better known nikk...\n",
       "6     sports science student costa barista penguin e...\n",
       "64    bba actg mktg cpa campaign law worked barack o...\n",
       "36                                          let past go\n",
       "89                photographer storyteller roanoketimes\n",
       "56                    hello im dalia send naked selfies\n",
       "99        robyn sheher bristol stars oilers flyers habs\n",
       "54    southern roots crimson soul bama passion thats...\n",
       "43    ex hippie vietnam vet wants make life better s...\n",
       "50                               music makeup adventure\n",
       "67    waiting gandalf come house invite adventure ex...\n",
       "46                               actor writer strangler\n",
       "68    writer romance urban fantasy comics intersecti...\n",
       "61                                        happily taken\n",
       "97    boutique executive recruiting firm since midse...\n",
       "79    greater intelligence kindness empathy bryant m...\n",
       "41    patrick siyr secretary sports fanatic im big s...\n",
       "58    mbbs frcs cth fetcs clinical lead mother happi...\n",
       "48                         pick friends eskimo brothers\n",
       "98    writer rose strickland mystery series beauty b...\n",
       "57                                               golden\n",
       "75                            nutrition fitness sf csun\n",
       "32    havent heard probably dont spend enough time a...\n",
       "94                                                   cc\n",
       "59    work classic rock radio station big bon jovi s...\n",
       "63    california grown bay area news reporter kwqc d...\n",
       "84         canadian filmmaking student leo french films\n",
       "37    lucas wyrsch networker enterprise risk managem...\n",
       "29                              harmauetials grve world\n",
       "1                         rip karl p nursing major txst\n",
       "52                argue know im right im always arguing\n",
       "21                            curly boy cheshire reason\n",
       "2     madafuckers never satisfied youll lose mind fr...\n",
       "23                                                 gear\n",
       "87    best talkradio healthcoach lifecoach businessc...\n",
       "91                                                 anna\n",
       "74                mommy perfect babygirl raylynn amelia\n",
       "86    heather jess prettiest princess land x mcavoys...\n",
       "82                                       life hats cats\n",
       "20    internist medical educator doctors trainings u...\n",
       "60    say youll remember standing nice dress staring...\n",
       "71                snap amonutella melhor cena de sempre\n",
       "14    humble trying bring back flavor music lacking ...\n",
       "92    mother wifeactress model writer infertility ov...\n",
       "51    louisandharry look way look mcdonalds pewdiepi...\n",
       "Name: description, dtype: object"
      ]
     },
     "execution_count": 110,
     "metadata": {},
     "output_type": "execute_result"
    }
   ],
   "source": [
    "X_train"
   ]
  },
  {
   "cell_type": "markdown",
   "metadata": {},
   "source": [
    "### Step 4.1: Feature Extraction\n"
   ]
  },
  {
   "cell_type": "markdown",
   "metadata": {},
   "source": [
    "### TF-IDF Vectorization\n",
    "\n",
    "In this step, we use the `TfidfVectorizer` from the `sklearn.feature_extraction.text` module to convert the text data into numerical features based on the TF-IDF (Term Frequency-Inverse Document Frequency) representation. This helps in capturing the importance of words in the context of the documents they appear in.\n"
   ]
  },
  {
   "cell_type": "code",
   "execution_count": 111,
   "metadata": {},
   "outputs": [],
   "source": [
    "# Initialize the TfidfVectorizer\n",
    "vectorizer = TfidfVectorizer(max_features=10)"
   ]
  },
  {
   "cell_type": "markdown",
   "metadata": {},
   "source": [
    "### Fitting the Vectorizer on the Training Data\n",
    "\n",
    "Before we can transform our text data into TF-IDF features, we need to fit the `TfidfVectorizer` on the training data. This step is crucial as it allows the vectorizer to learn the vocabulary and the importance of each term based on the training data.\n"
   ]
  },
  {
   "cell_type": "code",
   "execution_count": 112,
   "metadata": {},
   "outputs": [
    {
     "data": {
      "text/html": [
       "<style>#sk-container-id-1 {color: black;background-color: white;}#sk-container-id-1 pre{padding: 0;}#sk-container-id-1 div.sk-toggleable {background-color: white;}#sk-container-id-1 label.sk-toggleable__label {cursor: pointer;display: block;width: 100%;margin-bottom: 0;padding: 0.3em;box-sizing: border-box;text-align: center;}#sk-container-id-1 label.sk-toggleable__label-arrow:before {content: \"▸\";float: left;margin-right: 0.25em;color: #696969;}#sk-container-id-1 label.sk-toggleable__label-arrow:hover:before {color: black;}#sk-container-id-1 div.sk-estimator:hover label.sk-toggleable__label-arrow:before {color: black;}#sk-container-id-1 div.sk-toggleable__content {max-height: 0;max-width: 0;overflow: hidden;text-align: left;background-color: #f0f8ff;}#sk-container-id-1 div.sk-toggleable__content pre {margin: 0.2em;color: black;border-radius: 0.25em;background-color: #f0f8ff;}#sk-container-id-1 input.sk-toggleable__control:checked~div.sk-toggleable__content {max-height: 200px;max-width: 100%;overflow: auto;}#sk-container-id-1 input.sk-toggleable__control:checked~label.sk-toggleable__label-arrow:before {content: \"▾\";}#sk-container-id-1 div.sk-estimator input.sk-toggleable__control:checked~label.sk-toggleable__label {background-color: #d4ebff;}#sk-container-id-1 div.sk-label input.sk-toggleable__control:checked~label.sk-toggleable__label {background-color: #d4ebff;}#sk-container-id-1 input.sk-hidden--visually {border: 0;clip: rect(1px 1px 1px 1px);clip: rect(1px, 1px, 1px, 1px);height: 1px;margin: -1px;overflow: hidden;padding: 0;position: absolute;width: 1px;}#sk-container-id-1 div.sk-estimator {font-family: monospace;background-color: #f0f8ff;border: 1px dotted black;border-radius: 0.25em;box-sizing: border-box;margin-bottom: 0.5em;}#sk-container-id-1 div.sk-estimator:hover {background-color: #d4ebff;}#sk-container-id-1 div.sk-parallel-item::after {content: \"\";width: 100%;border-bottom: 1px solid gray;flex-grow: 1;}#sk-container-id-1 div.sk-label:hover label.sk-toggleable__label {background-color: #d4ebff;}#sk-container-id-1 div.sk-serial::before {content: \"\";position: absolute;border-left: 1px solid gray;box-sizing: border-box;top: 0;bottom: 0;left: 50%;z-index: 0;}#sk-container-id-1 div.sk-serial {display: flex;flex-direction: column;align-items: center;background-color: white;padding-right: 0.2em;padding-left: 0.2em;position: relative;}#sk-container-id-1 div.sk-item {position: relative;z-index: 1;}#sk-container-id-1 div.sk-parallel {display: flex;align-items: stretch;justify-content: center;background-color: white;position: relative;}#sk-container-id-1 div.sk-item::before, #sk-container-id-1 div.sk-parallel-item::before {content: \"\";position: absolute;border-left: 1px solid gray;box-sizing: border-box;top: 0;bottom: 0;left: 50%;z-index: -1;}#sk-container-id-1 div.sk-parallel-item {display: flex;flex-direction: column;z-index: 1;position: relative;background-color: white;}#sk-container-id-1 div.sk-parallel-item:first-child::after {align-self: flex-end;width: 50%;}#sk-container-id-1 div.sk-parallel-item:last-child::after {align-self: flex-start;width: 50%;}#sk-container-id-1 div.sk-parallel-item:only-child::after {width: 0;}#sk-container-id-1 div.sk-dashed-wrapped {border: 1px dashed gray;margin: 0 0.4em 0.5em 0.4em;box-sizing: border-box;padding-bottom: 0.4em;background-color: white;}#sk-container-id-1 div.sk-label label {font-family: monospace;font-weight: bold;display: inline-block;line-height: 1.2em;}#sk-container-id-1 div.sk-label-container {text-align: center;}#sk-container-id-1 div.sk-container {/* jupyter's `normalize.less` sets `[hidden] { display: none; }` but bootstrap.min.css set `[hidden] { display: none !important; }` so we also need the `!important` here to be able to override the default hidden behavior on the sphinx rendered scikit-learn.org. See: https://github.com/scikit-learn/scikit-learn/issues/21755 */display: inline-block !important;position: relative;}#sk-container-id-1 div.sk-text-repr-fallback {display: none;}</style><div id=\"sk-container-id-1\" class=\"sk-top-container\"><div class=\"sk-text-repr-fallback\"><pre>TfidfVectorizer(max_features=10)</pre><b>In a Jupyter environment, please rerun this cell to show the HTML representation or trust the notebook. <br />On GitHub, the HTML representation is unable to render, please try loading this page with nbviewer.org.</b></div><div class=\"sk-container\" hidden><div class=\"sk-item\"><div class=\"sk-estimator sk-toggleable\"><input class=\"sk-toggleable__control sk-hidden--visually\" id=\"sk-estimator-id-1\" type=\"checkbox\" checked><label for=\"sk-estimator-id-1\" class=\"sk-toggleable__label sk-toggleable__label-arrow\">TfidfVectorizer</label><div class=\"sk-toggleable__content\"><pre>TfidfVectorizer(max_features=10)</pre></div></div></div></div></div>"
      ],
      "text/plain": [
       "TfidfVectorizer(max_features=10)"
      ]
     },
     "execution_count": 112,
     "metadata": {},
     "output_type": "execute_result"
    }
   ],
   "source": [
    "# Fit the vectorizer on the training data\n",
    "vectorizer.fit(X_train)"
   ]
  },
  {
   "cell_type": "markdown",
   "metadata": {},
   "source": [
    "### Transforming the Training Data\n",
    "\n",
    "After fitting the `TfidfVectorizer` on the training data, the next step is to transform the training text data into a TF-IDF feature matrix. This matrix will be used to train our machine learning model.\n"
   ]
  },
  {
   "cell_type": "code",
   "execution_count": 116,
   "metadata": {},
   "outputs": [],
   "source": [
    "# Transform the training data\n",
    "X_train_tfidf = vectorizer.transform(X_train)\n"
   ]
  },
  {
   "cell_type": "markdown",
   "metadata": {},
   "source": [
    "### Converting the TF-IDF Sparse Matrix to a DataFrame\n",
    "\n",
    "After transforming the text data into a TF-IDF feature matrix, we convert this sparse matrix into a DataFrame. This makes it easier to inspect and manipulate the data.\n"
   ]
  },
  {
   "cell_type": "code",
   "execution_count": 118,
   "metadata": {},
   "outputs": [
    {
     "name": "stdout",
     "output_type": "stream",
     "text": [
      "\n",
      "TF-IDF Features DataFrame:\n",
      "   ceo  dont  fan   im  life  love  mother  music  step  writer\n",
      "0  0.0   1.0  0.0  0.0   0.0   0.0     0.0    0.0   0.0     0.0\n",
      "1  0.0   0.0  0.0  0.0   0.0   0.0     0.0    0.0   0.0     0.0\n",
      "2  1.0   0.0  0.0  0.0   0.0   0.0     0.0    0.0   0.0     0.0\n",
      "3  0.0   0.0  0.0  0.0   0.0   0.0     0.0    1.0   0.0     0.0\n",
      "4  0.0   0.0  0.0  0.0   0.0   0.0     0.0    0.0   0.0     0.0\n"
     ]
    }
   ],
   "source": [
    "\n",
    "# Convert the TF-IDF sparse matrix to a DataFrame\n",
    "X_train_tfidf_df = pd.DataFrame(X_train_tfidf.toarray(), columns=vectorizer.get_feature_names_out())\n",
    "\n",
    "print(\"\\nTF-IDF Features DataFrame:\")\n",
    "print(X_train_tfidf_df.head())\n"
   ]
  },
  {
   "cell_type": "markdown",
   "metadata": {},
   "source": [
    "### Transforming and Converting the Test Data\n",
    "\n",
    "These steps are similar to the ones we performed on the training data, but now we are applying them to the test data.\n"
   ]
  },
  {
   "cell_type": "code",
   "execution_count": 119,
   "metadata": {},
   "outputs": [
    {
     "name": "stdout",
     "output_type": "stream",
     "text": [
      "\n",
      "TF-IDF Features DataFrame:\n",
      "   ceo  dont  fan        im  life      love  mother  music  step  writer\n",
      "0  0.0   0.0  0.0  1.000000   0.0  0.000000     0.0    0.0   0.0     0.0\n",
      "1  0.0   0.0  0.0  0.000000   0.0  0.000000     0.0    0.0   0.0     0.0\n",
      "2  0.0   0.0  0.0  0.628295   0.0  0.777975     0.0    0.0   0.0     0.0\n",
      "3  0.0   0.0  0.0  0.000000   0.0  0.000000     0.0    0.0   0.0     0.0\n",
      "4  0.0   0.0  0.0  0.000000   0.0  0.000000     0.0    0.0   0.0     0.0\n"
     ]
    }
   ],
   "source": [
    "\n",
    "# Transform the training data\n",
    "X_test_tfidf = vectorizer.transform(X_test)\n",
    "\n",
    "# Convert the TF-IDF sparse matrix to a DataFrame\n",
    "X_test_tfidf_df = pd.DataFrame(X_test_tfidf.toarray(), columns=vectorizer.get_feature_names_out())\n",
    "\n",
    "print(\"\\nTF-IDF Features DataFrame:\")\n",
    "print(X_test_tfidf_df.head())\n",
    "\n",
    "#to do Parameter tuninng we are not clear how many features are optimal "
   ]
  },
  {
   "cell_type": "markdown",
   "metadata": {},
   "source": [
    "# Step 5 : Label Encoding does not required."
   ]
  },
  {
   "cell_type": "markdown",
   "metadata": {},
   "source": [
    "# Step 6: Execute the Training Phase \n",
    "## Step 6.1: Training Data and Testing Data"
   ]
  },
  {
   "cell_type": "markdown",
   "metadata": {},
   "source": [
    "## Step 6.2: Train the model\n",
    "\n",
    "### Training the Model\n",
    "\n",
    "In this step, we train a machine learning model using the TF-IDF features from the training data.\n",
    "\n",
    "`MultinomialNB()`: This initializes a Multinomial Naive Bayes classifier, which is well-suited for classification with discrete features like word counts or TF-IDF scores.\n",
    "`model.fit(X_train_tfidf, y_train)`: This method trains the Multinomial Naive Bayes model using the TF-IDF features (X_train_tfidf) and the corresponding labels (y_train). The model learns the relationship between the features and the labels, which will later be used to make predictions on new data."
   ]
  },
  {
   "cell_type": "code",
   "execution_count": 120,
   "metadata": {},
   "outputs": [
    {
     "data": {
      "text/html": [
       "<style>#sk-container-id-2 {color: black;background-color: white;}#sk-container-id-2 pre{padding: 0;}#sk-container-id-2 div.sk-toggleable {background-color: white;}#sk-container-id-2 label.sk-toggleable__label {cursor: pointer;display: block;width: 100%;margin-bottom: 0;padding: 0.3em;box-sizing: border-box;text-align: center;}#sk-container-id-2 label.sk-toggleable__label-arrow:before {content: \"▸\";float: left;margin-right: 0.25em;color: #696969;}#sk-container-id-2 label.sk-toggleable__label-arrow:hover:before {color: black;}#sk-container-id-2 div.sk-estimator:hover label.sk-toggleable__label-arrow:before {color: black;}#sk-container-id-2 div.sk-toggleable__content {max-height: 0;max-width: 0;overflow: hidden;text-align: left;background-color: #f0f8ff;}#sk-container-id-2 div.sk-toggleable__content pre {margin: 0.2em;color: black;border-radius: 0.25em;background-color: #f0f8ff;}#sk-container-id-2 input.sk-toggleable__control:checked~div.sk-toggleable__content {max-height: 200px;max-width: 100%;overflow: auto;}#sk-container-id-2 input.sk-toggleable__control:checked~label.sk-toggleable__label-arrow:before {content: \"▾\";}#sk-container-id-2 div.sk-estimator input.sk-toggleable__control:checked~label.sk-toggleable__label {background-color: #d4ebff;}#sk-container-id-2 div.sk-label input.sk-toggleable__control:checked~label.sk-toggleable__label {background-color: #d4ebff;}#sk-container-id-2 input.sk-hidden--visually {border: 0;clip: rect(1px 1px 1px 1px);clip: rect(1px, 1px, 1px, 1px);height: 1px;margin: -1px;overflow: hidden;padding: 0;position: absolute;width: 1px;}#sk-container-id-2 div.sk-estimator {font-family: monospace;background-color: #f0f8ff;border: 1px dotted black;border-radius: 0.25em;box-sizing: border-box;margin-bottom: 0.5em;}#sk-container-id-2 div.sk-estimator:hover {background-color: #d4ebff;}#sk-container-id-2 div.sk-parallel-item::after {content: \"\";width: 100%;border-bottom: 1px solid gray;flex-grow: 1;}#sk-container-id-2 div.sk-label:hover label.sk-toggleable__label {background-color: #d4ebff;}#sk-container-id-2 div.sk-serial::before {content: \"\";position: absolute;border-left: 1px solid gray;box-sizing: border-box;top: 0;bottom: 0;left: 50%;z-index: 0;}#sk-container-id-2 div.sk-serial {display: flex;flex-direction: column;align-items: center;background-color: white;padding-right: 0.2em;padding-left: 0.2em;position: relative;}#sk-container-id-2 div.sk-item {position: relative;z-index: 1;}#sk-container-id-2 div.sk-parallel {display: flex;align-items: stretch;justify-content: center;background-color: white;position: relative;}#sk-container-id-2 div.sk-item::before, #sk-container-id-2 div.sk-parallel-item::before {content: \"\";position: absolute;border-left: 1px solid gray;box-sizing: border-box;top: 0;bottom: 0;left: 50%;z-index: -1;}#sk-container-id-2 div.sk-parallel-item {display: flex;flex-direction: column;z-index: 1;position: relative;background-color: white;}#sk-container-id-2 div.sk-parallel-item:first-child::after {align-self: flex-end;width: 50%;}#sk-container-id-2 div.sk-parallel-item:last-child::after {align-self: flex-start;width: 50%;}#sk-container-id-2 div.sk-parallel-item:only-child::after {width: 0;}#sk-container-id-2 div.sk-dashed-wrapped {border: 1px dashed gray;margin: 0 0.4em 0.5em 0.4em;box-sizing: border-box;padding-bottom: 0.4em;background-color: white;}#sk-container-id-2 div.sk-label label {font-family: monospace;font-weight: bold;display: inline-block;line-height: 1.2em;}#sk-container-id-2 div.sk-label-container {text-align: center;}#sk-container-id-2 div.sk-container {/* jupyter's `normalize.less` sets `[hidden] { display: none; }` but bootstrap.min.css set `[hidden] { display: none !important; }` so we also need the `!important` here to be able to override the default hidden behavior on the sphinx rendered scikit-learn.org. See: https://github.com/scikit-learn/scikit-learn/issues/21755 */display: inline-block !important;position: relative;}#sk-container-id-2 div.sk-text-repr-fallback {display: none;}</style><div id=\"sk-container-id-2\" class=\"sk-top-container\"><div class=\"sk-text-repr-fallback\"><pre>MultinomialNB()</pre><b>In a Jupyter environment, please rerun this cell to show the HTML representation or trust the notebook. <br />On GitHub, the HTML representation is unable to render, please try loading this page with nbviewer.org.</b></div><div class=\"sk-container\" hidden><div class=\"sk-item\"><div class=\"sk-estimator sk-toggleable\"><input class=\"sk-toggleable__control sk-hidden--visually\" id=\"sk-estimator-id-2\" type=\"checkbox\" checked><label for=\"sk-estimator-id-2\" class=\"sk-toggleable__label sk-toggleable__label-arrow\">MultinomialNB</label><div class=\"sk-toggleable__content\"><pre>MultinomialNB()</pre></div></div></div></div></div>"
      ],
      "text/plain": [
       "MultinomialNB()"
      ]
     },
     "execution_count": 120,
     "metadata": {},
     "output_type": "execute_result"
    }
   ],
   "source": [
    "# Training the model\n",
    "model = MultinomialNB()\n",
    "model.fit(X_train_tfidf, y_train)\n"
   ]
  },
  {
   "cell_type": "markdown",
   "metadata": {},
   "source": [
    "## Step 6.3: Save the trained model\n",
    "\n",
    "After training the model, it's important to save both the trained model and the TF-IDF vectorizer to disk. This allows us to reuse them later without retraining, which saves time and computational resources.\n"
   ]
  },
  {
   "cell_type": "code",
   "execution_count": 121,
   "metadata": {},
   "outputs": [
    {
     "data": {
      "text/plain": [
       "['tfidf_vectorizer.pkl']"
      ]
     },
     "execution_count": 121,
     "metadata": {},
     "output_type": "execute_result"
    }
   ],
   "source": [
    "# Save the model to disk\n",
    "joblib.dump(model, 'naive_bayes_model.pkl')\n",
    "\n",
    "# Save the vectorizer to disk\n",
    "joblib.dump(vectorizer, 'tfidf_vectorizer.pkl')\n"
   ]
  },
  {
   "cell_type": "markdown",
   "metadata": {},
   "source": [
    "# Step 7: Execute the Testing Phase \n",
    "## Step 7.1: Load the Saved Model"
   ]
  },
  {
   "cell_type": "code",
   "execution_count": 122,
   "metadata": {},
   "outputs": [
    {
     "name": "stdout",
     "output_type": "stream",
     "text": [
      "Model loaded from 'naive_bayes_model.pkl'\n"
     ]
    }
   ],
   "source": [
    "import joblib\n",
    "\n",
    "# Load the model from disk\n",
    "loaded_model = joblib.load('naive_bayes_model.pkl')\n",
    "\n",
    "# Load the vectorizer from disk\n",
    "loaded_vectorizer = joblib.load('tfidf_vectorizer.pkl')\n",
    "\n",
    "print(f\"Model loaded from 'naive_bayes_model.pkl'\")\n",
    "\n"
   ]
  },
  {
   "cell_type": "markdown",
   "metadata": {},
   "source": [
    "## Step 7.2: Evaluate the Machine Learning Model\n",
    "\n",
    "### Transforming Test Data and Evaluating the Loaded Model\n",
    "\n",
    "Transform the test data using the loaded vectorizer: This step uses the loaded TF-IDF vectorizer to transform the test data (`X_test`) into the same TF-IDF feature matrix format as used during training.\n",
    "\n",
    "`X_test_tfidf_loaded = loaded_vectorizer.transform(X_test)`: This transforms the test text data into a TF-IDF feature matrix using the loaded vectorizer.\n",
    "\n",
    "Evaluate the loaded model: This step uses the loaded model to make predictions on the transformed test data and then evaluates the model's performance.\n",
    "\n",
    "`y_pred_loaded = loaded_model.predict(X_test_tfidf_loaded)`: This uses the loaded model to predict the labels for the transformed test data.\n",
    "`accuracy_loaded = accuracy_score(y_test, y_pred_loaded)`: This calculates the accuracy of the model's predictions by comparing the predicted labels (`y_pred_loaded`) with the true labels (`y_test`).\n",
    "`report_loaded = classification_report(y_test, y_pred_loaded)`: This generates a detailed classification report, which includes precision, recall, and F1-score for each class.\n",
    "\n",
    "Print the results: This step prints the accuracy and the classification report to provide a summary of the model's performance on the test data.\n",
    "\n",
    "`print(f\"Accuracy: {accuracy_loaded}\")`: This prints the accuracy of the model.\n",
    "`print(\"Classification Report:\")`: This prints a header for the classification report.\n",
    "`print(report_loaded)`: This prints the detailed classification report, providing insights into the model's performance across different classes.\n",
    "\n",
    "By transforming the test data and evaluating the loaded model, we can assess the model's ability to generalize to new, unseen data and ensure that it performs as expected.\n"
   ]
  },
  {
   "cell_type": "code",
   "execution_count": 124,
   "metadata": {},
   "outputs": [
    {
     "name": "stdout",
     "output_type": "stream",
     "text": [
      "Accuracy: 0.4\n",
      "Classification Report:\n",
      "              precision    recall  f1-score   support\n",
      "\n",
      "      female       0.40      1.00      0.57         8\n",
      "        male       0.00      0.00      0.00        12\n",
      "\n",
      "    accuracy                           0.40        20\n",
      "   macro avg       0.20      0.50      0.29        20\n",
      "weighted avg       0.16      0.40      0.23        20\n",
      "\n"
     ]
    },
    {
     "name": "stderr",
     "output_type": "stream",
     "text": [
      "C:\\Users\\Haris Ellahi\\anaconda3\\lib\\site-packages\\sklearn\\metrics\\_classification.py:1344: UndefinedMetricWarning: Precision and F-score are ill-defined and being set to 0.0 in labels with no predicted samples. Use `zero_division` parameter to control this behavior.\n",
      "  _warn_prf(average, modifier, msg_start, len(result))\n",
      "C:\\Users\\Haris Ellahi\\anaconda3\\lib\\site-packages\\sklearn\\metrics\\_classification.py:1344: UndefinedMetricWarning: Precision and F-score are ill-defined and being set to 0.0 in labels with no predicted samples. Use `zero_division` parameter to control this behavior.\n",
      "  _warn_prf(average, modifier, msg_start, len(result))\n",
      "C:\\Users\\Haris Ellahi\\anaconda3\\lib\\site-packages\\sklearn\\metrics\\_classification.py:1344: UndefinedMetricWarning: Precision and F-score are ill-defined and being set to 0.0 in labels with no predicted samples. Use `zero_division` parameter to control this behavior.\n",
      "  _warn_prf(average, modifier, msg_start, len(result))\n"
     ]
    }
   ],
   "source": [
    "# Transform the test data using the loaded vectorizer\n",
    "X_test_tfidf_loaded = loaded_vectorizer.transform(X_test)\n",
    "\n",
    "# Evaluate the loaded model\n",
    "y_pred_loaded = loaded_model.predict(X_test_tfidf_loaded)\n",
    "accuracy_loaded = accuracy_score(y_test, y_pred_loaded)\n",
    "report_loaded = classification_report(y_test, y_pred_loaded)\n",
    "\n",
    "print(f\"Accuracy: {accuracy_loaded}\")\n",
    "print(\"Classification Report:\")\n",
    "print(report_loaded)\n"
   ]
  },
  {
   "cell_type": "markdown",
   "metadata": {},
   "source": [
    "## Step 7.3: Displaying the Confusion Matrix\n",
    "\n",
    "### Confusion Matrix\n",
    "\n",
    "A confusion matrix is a useful tool for evaluating the performance of a classification model. It provides a summary of the prediction results on the test data, showing the number of correct and incorrect predictions broken down by each class.\n"
   ]
  },
  {
   "cell_type": "code",
   "execution_count": 126,
   "metadata": {},
   "outputs": [
    {
     "name": "stdout",
     "output_type": "stream",
     "text": [
      "Confusion Matrix:\n",
      "[[ 8  0]\n",
      " [12  0]]\n"
     ]
    },
    {
     "data": {
      "image/png": "[encoded data removed]",
      "text/plain": [
       "<Figure size 1000x700 with 2 Axes>"
      ]
     },
     "metadata": {},
     "output_type": "display_data"
    }
   ],
   "source": [
    "\n",
    "# Confusion Matrix\n",
    "conf_matrix = confusion_matrix(y_test, y_pred_loaded)\n",
    "print(\"Confusion Matrix:\")\n",
    "print(conf_matrix)\n",
    "\n",
    "# Plot Confusion Matrix\n",
    "plt.figure(figsize=(10, 7))\n",
    "sns.heatmap(conf_matrix, annot=True, fmt='d', cmap='Blues', xticklabels=['Female', 'Male'], yticklabels=['Female', 'Male'])\n",
    "plt.xlabel('Predicted')\n",
    "plt.ylabel('Actual')\n",
    "plt.title('Confusion Matrix')\n",
    "plt.show()\n"
   ]
  },
  {
   "cell_type": "markdown",
   "metadata": {},
   "source": [
    "# Step 8: Execute the Application Phase\n",
    "## Step 8.1: Take Input from User, Preprocess it \n"
   ]
  },
  {
   "cell_type": "code",
   "execution_count": 136,
   "metadata": {},
   "outputs": [
    {
     "name": "stdout",
     "output_type": "stream",
     "text": [
      "Please enter your text: walk by faith not by sight.\n"
     ]
    }
   ],
   "source": [
    "# Take user input\n",
    "user_input = input(\"Please enter your text: \").strip()\n",
    "\n",
    "# Preprocess the user input\n",
    "def preprocess_user_input(text):\n",
    "    stop_words = set(stopwords.words('english'))\n",
    "    text = re.sub(r'[^a-zA-Z\\s]', '', text)\n",
    "    text = text.lower()\n",
    "    text = ' '.join(word for word in text.split() if word not in stop_words)\n",
    "    return text\n",
    "\n",
    "cleaned_input = preprocess_user_input(user_input)"
   ]
  },
  {
   "cell_type": "code",
   "execution_count": 137,
   "metadata": {},
   "outputs": [
    {
     "data": {
      "text/plain": [
       "'walk by faith not by sight.'"
      ]
     },
     "execution_count": 137,
     "metadata": {},
     "output_type": "execute_result"
    }
   ],
   "source": [
    "user_input\n",
    "# If they are successful, we can rest assured that the COVID-19 best vaccine will not irritate our eyes this time."
   ]
  },
  {
   "cell_type": "code",
   "execution_count": 138,
   "metadata": {},
   "outputs": [
    {
     "data": {
      "text/plain": [
       "'walk faith sight'"
      ]
     },
     "execution_count": 138,
     "metadata": {},
     "output_type": "execute_result"
    }
   ],
   "source": [
    "cleaned_input"
   ]
  },
  {
   "cell_type": "markdown",
   "metadata": {},
   "source": [
    "## Step 8.2: Load the Saved Model"
   ]
  },
  {
   "cell_type": "code",
   "execution_count": 139,
   "metadata": {},
   "outputs": [],
   "source": [
    "# Load the vectorizer and the model (ensure these are the same as used during training)\n",
    "vectorizer = joblib.load('tfidf_vectorizer.pkl')\n",
    "model = joblib.load('naive_bayes_model.pkl')"
   ]
  },
  {
   "cell_type": "markdown",
   "metadata": {},
   "source": [
    "## Step 8.3: Transform the user input using the loaded vectorizer"
   ]
  },
  {
   "cell_type": "code",
   "execution_count": 140,
   "metadata": {},
   "outputs": [
    {
     "name": "stdout",
     "output_type": "stream",
     "text": [
      "\n",
      "TF-IDF Features DataFrame for User Input:\n",
      "   ceo  dont  fan   im  life  love  mother  music  step  writer\n",
      "0  0.0   0.0  0.0  0.0   0.0   0.0     0.0    0.0   0.0     0.0\n"
     ]
    }
   ],
   "source": [
    "\n",
    "\n",
    "# Transform the cleaned input using the vectorizer\n",
    "X_test_tfidf = vectorizer.transform([cleaned_input])  # Wrap the cleaned input in a list\n",
    "\n",
    "# Convert the TF-IDF sparse matrix to a DataFrame\n",
    "X_test_tfidf_df = pd.DataFrame(X_test_tfidf.toarray(), columns=vectorizer.get_feature_names_out())\n",
    "\n",
    "print(\"\\nTF-IDF Features DataFrame for User Input:\")\n",
    "print(X_test_tfidf_df)\n"
   ]
  },
  {
   "cell_type": "code",
   "execution_count": 146,
   "metadata": {},
   "outputs": [],
   "source": [
    "# Transform the user input using the loaded vectorizer\n",
    "user_input_tfidf = vectorizer.transform([cleaned_input])"
   ]
  },
  {
   "cell_type": "markdown",
   "metadata": {},
   "source": [
    "## Step 8.4: Predict the sentiment of the user input"
   ]
  },
  {
   "cell_type": "code",
   "execution_count": 147,
   "metadata": {},
   "outputs": [
    {
     "name": "stdout",
     "output_type": "stream",
     "text": [
      "The Gender of  \"walk by faith not by sight.\"  is: female\n"
     ]
    },
    {
     "name": "stderr",
     "output_type": "stream",
     "text": [
      "C:\\Users\\Haris Ellahi\\anaconda3\\lib\\site-packages\\sklearn\\base.py:413: UserWarning: X has feature names, but MultinomialNB was fitted without feature names\n",
      "  warnings.warn(\n"
     ]
    }
   ],
   "source": [
    "# Predict the sentiment of the user input\n",
    "user_prediction = model.predict(X_test_tfidf_df)\n",
    "\n",
    "\n",
    "# # Output the prediction\n",
    "print(f\"The Gender of  \\\"{user_input}\\\"  is: {user_prediction[0]}\")"
   ]
  },
  {
   "cell_type": "markdown",
   "metadata": {},
   "source": [
    "# Step 9: Execute the Feedback Phase\n",
    "## A Two-Step Process\n",
    "### Step 01: After some time, take Feedback from\n",
    "    o\tDomain Experts and Users on deployed Titanic Passenger Survival Prediction System\n",
    "### Step 02: Make a List of Possible Improvements based on Feedback received"
   ]
  },
  {
   "cell_type": "markdown",
   "metadata": {},
   "source": [
    "todo gender identificaton form text\n",
    "\n",
    "muti clas age group identification from text, emotion redectipn fronm text. mahy by personalityh type"
   ]
  },
  {
   "cell_type": "markdown",
   "metadata": {},
   "source": [
    "# Step 10: Improve Model based on Feedback\n",
    "### There is Always Room for Improvement\n",
    "### Based on Feedback from Domain Experts and Users\n",
    "    o\tImprove your Model"
   ]
  }
 ],
 "metadata": {
  "kernelspec": {
   "display_name": "Python 3 (ipykernel)",
   "language": "python",
   "name": "python3"
  },
  "language_info": {
   "codemirror_mode": {
    "name": "ipython",
    "version": 3
   },
   "file_extension": ".py",
   "mimetype": "text/x-python",
   "name": "python",
   "nbconvert_exporter": "python",
   "pygments_lexer": "ipython3",
   "version": "3.10.9"
  }
 },
 "nbformat": 4,
 "nbformat_minor": 4
}
