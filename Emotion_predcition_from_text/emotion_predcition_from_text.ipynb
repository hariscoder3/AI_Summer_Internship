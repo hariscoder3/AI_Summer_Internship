{
 "cells": [
  {
   "cell_type": "markdown",
   "metadata": {},
   "source": [
    "<h1 style=\"color:red\">Emotion Prediction System – Machine Learning Cycle</h1>"
   ]
  },
  {
   "cell_type": "markdown",
   "metadata": {},
   "source": [
    "# Machine Learning Cycle\n",
    "\n",
    "### Four phases of a Machine Learning Cycle are\n",
    "\n",
    "### Training Phase\n",
    "\n",
    "    Build the Model using Training Data\n",
    "\n",
    "### Testing Phase\n",
    "\n",
    "     Evaluate the performance of Model using Testing Data\n",
    "\n",
    "### Application Phase\n",
    "\n",
    "     Deploy the Model in the Real-world, to predict Real-time unseen Data\n",
    "\n",
    "### Feedback Phase\n",
    "\n",
    "    Take Feedback from the Users and Domain Experts to improve the Model\n"
   ]
  },
  {
   "cell_type": "markdown",
   "metadata": {},
   "source": [
    "# Step 1: Import Libraries"
   ]
  },
  {
   "cell_type": "code",
   "execution_count": 148,
   "metadata": {},
   "outputs": [],
   "source": [
    "import re\n",
    "import pandas as pd\n",
    "from nltk.corpus import stopwords\n",
    "from sklearn.feature_extraction.text import TfidfVectorizer\n",
    "from sklearn.model_selection import train_test_split\n",
    "from sklearn.naive_bayes import MultinomialNB\n",
    "from sklearn.metrics import accuracy_score, classification_report, confusion_matrix\n",
    "import nltk\n",
    "import joblib\n",
    "import seaborn as sns\n",
    "import matplotlib.pyplot as plt"
   ]
  },
  {
   "cell_type": "markdown",
   "metadata": {},
   "source": [
    "# Step 2: Load Sample Data"
   ]
  },
  {
   "cell_type": "code",
   "execution_count": 154,
   "metadata": {},
   "outputs": [
    {
     "name": "stdout",
     "output_type": "stream",
     "text": [
      "\n",
      "\\Emotion Prediction Data:\n",
      "============\n",
      "\n",
      "Sample data count = 100\n",
      "\n",
      "                                               Tweet Emotion\n",
      "0             False alarm // matoma &amp; Becky hill   anger\n",
      "1  I'm tired of everybody telling me to chill out...   anger\n",
      "2  Im so serious about putting words in my mouth ...   anger\n",
      "3  Can someone make me a priority list of which t...   anger\n",
      "4  @TeaPartyOrg Hes right when the Civil war star...   anger\n",
      "                                                Tweet Emotion\n",
      "95  Riggs dumb ass hell lolol #hilarious #LethalWe...   trust\n",
      "96                        American Schools are lively   trust\n",
      "97  Accept the challenges so that you can feel the...   trust\n",
      "98  Have any of you ever stayed in hostels oversea...   trust\n",
      "99  @ProSyndicate thanks for replying, I'm ironing...   trust\n"
     ]
    }
   ],
   "source": [
    "data = pd.read_csv(\"emotion_prediction_dataset.csv\")\n",
    "\n",
    "print(\"\\n\\Emotion Prediction Data:\")\n",
    "print(\"============\\n\")\n",
    "pd.set_option(\"display.max_rows\", None, \"display.max_columns\", None)\n",
    "print(f'Sample data count = {len(data)}\\n')\n",
    "print(data.head())\n",
    "print(data.tail())"
   ]
  },
  {
   "cell_type": "markdown",
   "metadata": {},
   "source": [
    "## Step 2.1: View Columns In Dataset"
   ]
  },
  {
   "cell_type": "code",
   "execution_count": 155,
   "metadata": {},
   "outputs": [
    {
     "data": {
      "text/plain": [
       "Index(['Tweet', 'Emotion'], dtype='object')"
      ]
     },
     "execution_count": 155,
     "metadata": {},
     "output_type": "execute_result"
    }
   ],
   "source": [
    "data.columns"
   ]
  },
  {
   "cell_type": "markdown",
   "metadata": {},
   "source": [
    "## Step 2.2: Keeping Required Column In Dataset"
   ]
  },
  {
   "cell_type": "markdown",
   "metadata": {},
   "source": [
    "# Step 3: Understand and Pre-process Sample Data\n",
    "\n",
    "## Definition of Pre-processing Sample Data\n",
    "\n",
    "Pre-processing sample data involves cleaning and transforming raw data into a format that can be effectively used for analysis. This step is crucial in natural language processing (NLP) as it helps in improving the performance of machine learning models by removing noise and ensuring consistency.\n",
    "\n",
    "## Impact of Pre-processing Sample Data\n",
    "\n",
    "1. **Improves Data Quality**: Removes irrelevant and redundant information, leading to cleaner and more meaningful data.\n",
    "2. **Enhances Model Accuracy**: By reducing noise and standardizing text, pre-processing helps in achieving better model performance.\n",
    "3. **Facilitates Efficient Data Analysis**: Simplifies the data, making it easier to analyze and interpret.\n",
    "4. **Reduces Complexity**: Helps in reducing the complexity of data by normalizing text and handling missing values.\n",
    "\n",
    "Common pre-processing steps include:\n",
    "- Removing punctuation and special characters\n",
    "- Converting text to lowercase\n",
    "- Removing stopwords\n",
    "- Stemming and lemmatization\n",
    "\n"
   ]
  },
  {
   "cell_type": "markdown",
   "metadata": {},
   "source": [
    "## Step 3.1: Download and set stopwords\n",
    "\n",
    "### Definition of Stopwords\n",
    "\n",
    "Stopwords are commonly used words in a language (such as \"the\", \"is\", \"in\", etc.) that are often filtered out before processing text data. These words are considered to have little value in understanding the content of a document because they are so frequently used.\n",
    "\n",
    "### Impact of Removing Stopwords\n",
    "\n",
    "1. **Reduces Noise**: Eliminates common but unimportant words, helping to focus on the more meaningful words in the text.\n",
    "2. **Improves Model Performance**: Reduces the dimensionality of the data, which can improve the efficiency and accuracy of machine learning models.\n",
    "3. **Enhances Text Analysis**: Helps in highlighting the significant words that contribute to the context and meaning of the text.\n",
    "\n",
    "### Note\n",
    "\n",
    "It is important to understand that removing stopwords is not always necessary and depends on the specific requirements of your text analysis or machine learning task. In some cases, stopwords might carry important contextual information that could be valuable for your analysis. Therefore, it is essential to evaluate whether removing stopwords will benefit or hinder your particular application.\n",
    "\n",
    "### How to Download and Set Stopwords\n",
    "\n",
    "To use stopwords in your text pre-processing steps, you need to download a list of stopwords for the language you are working with. In the case of English, the `nltk` library provides a comprehensive list of stopwords.\n",
    "\n",
    "The following code snippet shows how to download and set stopwords using the `nltk` library:\n",
    "\n",
    "```python\n",
    "# Ensure you have downloaded the stopwords\n",
    "import nltk\n",
    "nltk.download('stopwords')\n",
    "from nltk.corpus import stopwords\n",
    "\n",
    "# Set the stopwords for English\n",
    "stop_words = set(stopwords.words('english'))\n"
   ]
  },
  {
   "cell_type": "code",
   "execution_count": 156,
   "metadata": {},
   "outputs": [],
   "source": [
    "# Ensure you have downloaded the stopwords\n",
    "stop_words = set(stopwords.words('english'))"
   ]
  },
  {
   "cell_type": "markdown",
   "metadata": {},
   "source": [
    "## Step 3.2: Define a function to clean the text\n",
    "\n",
    "This function will remove symbols and numbers, convert text to lowercase, and remove stop words."
   ]
  },
  {
   "cell_type": "code",
   "execution_count": 157,
   "metadata": {},
   "outputs": [],
   "source": [
    "# Function to clean the text\n",
    "def clean_text(text):\n",
    "    if isinstance(text,str):\n",
    "        # Remove symbols and numbers\n",
    "        text = re.sub(r'[^a-zA-Z\\s]', '', text)\n",
    "        # Convert text to lowercase\n",
    "        text = text.lower()\n",
    "        # Remove stop words\n",
    "        text = ' '.join(word for word in text.split() if word not in stop_words)\n",
    "        return text\n",
    "    else:\n",
    "        return text"
   ]
  },
  {
   "cell_type": "markdown",
   "metadata": {},
   "source": [
    "#### For the sake of clear understanding we will divide clean_text function in seperate function."
   ]
  },
  {
   "cell_type": "markdown",
   "metadata": {},
   "source": [
    "### Function 1: Remove Symbols and Numbers\n",
    "\n",
    "This function removes all symbols and numbers from the text, leaving only alphabetic characters. This step is important to ensure that the text data is clean and only contains meaningful words."
   ]
  },
  {
   "cell_type": "code",
   "execution_count": 159,
   "metadata": {},
   "outputs": [],
   "source": [
    "def remove_symbols_numbers(text):\n",
    "    # Remove symbols and numbers\n",
    "    if isinstance(text, str):\n",
    "        text = re.sub(r'[^a-zA-Z\\s]', '', text)\n",
    "        return text\n",
    "    else:\n",
    "        return text"
   ]
  },
  {
   "cell_type": "markdown",
   "metadata": {},
   "source": [
    "#### Function 2: Convert Text to Lowercase\n",
    "This function converts all characters in the text to lowercase to ensure consistency.\n"
   ]
  },
  {
   "cell_type": "code",
   "execution_count": 160,
   "metadata": {},
   "outputs": [],
   "source": [
    "def to_lowercase(text):\n",
    "    # Convert text to lowercase\n",
    "    if isinstance(text, str):\n",
    "        text = text.lower()\n",
    "        return text\n",
    "    else:\n",
    "        return text"
   ]
  },
  {
   "cell_type": "markdown",
   "metadata": {},
   "source": [
    "#### Function 3: Remove Stopwords\n",
    "This function removes stopwords from the text, which are common words that may not contribute significant meaning.\n"
   ]
  },
  {
   "cell_type": "code",
   "execution_count": 161,
   "metadata": {},
   "outputs": [],
   "source": [
    "stop_words = set(stopwords.words('english'))\n",
    "\n",
    "def remove_stopwords(text):\n",
    "    # Remove stop words\n",
    "    if isinstance(text, str):\n",
    "        text = ' '.join(word for word in text.split() if word not in stop_words)\n",
    "        return text\n",
    "    else:\n",
    "        return text"
   ]
  },
  {
   "cell_type": "markdown",
   "metadata": {},
   "source": [
    "## Step 3.3: Load the data"
   ]
  },
  {
   "cell_type": "code",
   "execution_count": 163,
   "metadata": {},
   "outputs": [],
   "source": [
    "# Load the data\n",
    "data = pd.read_csv('emotion_prediction_dataset.csv')"
   ]
  },
  {
   "cell_type": "code",
   "execution_count": 164,
   "metadata": {},
   "outputs": [
    {
     "data": {
      "text/html": [
       "<div>\n",
       "<style scoped>\n",
       "    .dataframe tbody tr th:only-of-type {\n",
       "        vertical-align: middle;\n",
       "    }\n",
       "\n",
       "    .dataframe tbody tr th {\n",
       "        vertical-align: top;\n",
       "    }\n",
       "\n",
       "    .dataframe thead th {\n",
       "        text-align: right;\n",
       "    }\n",
       "</style>\n",
       "<table border=\"1\" class=\"dataframe\">\n",
       "  <thead>\n",
       "    <tr style=\"text-align: right;\">\n",
       "      <th></th>\n",
       "      <th>Tweet</th>\n",
       "      <th>Emotion</th>\n",
       "    </tr>\n",
       "  </thead>\n",
       "  <tbody>\n",
       "    <tr>\n",
       "      <th>0</th>\n",
       "      <td>False alarm // matoma &amp;amp; Becky hill</td>\n",
       "      <td>anger</td>\n",
       "    </tr>\n",
       "    <tr>\n",
       "      <th>1</th>\n",
       "      <td>I'm tired of everybody telling me to chill out...</td>\n",
       "      <td>anger</td>\n",
       "    </tr>\n",
       "    <tr>\n",
       "      <th>2</th>\n",
       "      <td>Im so serious about putting words in my mouth ...</td>\n",
       "      <td>anger</td>\n",
       "    </tr>\n",
       "    <tr>\n",
       "      <th>3</th>\n",
       "      <td>Can someone make me a priority list of which t...</td>\n",
       "      <td>anger</td>\n",
       "    </tr>\n",
       "    <tr>\n",
       "      <th>4</th>\n",
       "      <td>@TeaPartyOrg Hes right when the Civil war star...</td>\n",
       "      <td>anger</td>\n",
       "    </tr>\n",
       "  </tbody>\n",
       "</table>\n",
       "</div>"
      ],
      "text/plain": [
       "                                               Tweet Emotion\n",
       "0             False alarm // matoma &amp; Becky hill   anger\n",
       "1  I'm tired of everybody telling me to chill out...   anger\n",
       "2  Im so serious about putting words in my mouth ...   anger\n",
       "3  Can someone make me a priority list of which t...   anger\n",
       "4  @TeaPartyOrg Hes right when the Civil war star...   anger"
      ]
     },
     "execution_count": 164,
     "metadata": {},
     "output_type": "execute_result"
    }
   ],
   "source": [
    "data.head()"
   ]
  },
  {
   "cell_type": "markdown",
   "metadata": {},
   "source": [
    "## Step 3.4: Drop rows with NaN values in the text column"
   ]
  },
  {
   "cell_type": "markdown",
   "metadata": {},
   "source": [
    "### Handling NaN Values in the Text Column\n",
    "\n",
    "#### Definition of NaN Values\n",
    "NaN stands for \"Not a Number\" and is used to represent missing or undefined values in a dataset. In the context of text data, NaN values indicate that a particular entry in the text column is missing or empty.\n",
    "\n",
    "#### Purpose of Dropping Rows with NaN Values\n",
    "Dropping rows with NaN values is an essential pre-processing step to ensure that the dataset is clean and complete. Working with incomplete data can lead to errors and unreliable results in text analysis and machine learning models. By removing rows with NaN values, we can:\n",
    "\n",
    "1. **Ensure Data Quality**: Removing incomplete data entries helps maintain the integrity and quality of the dataset.\n",
    "2. **Prevent Errors**: Many text processing functions and machine learning algorithms cannot handle NaN values and will raise errors if they encounter them.\n",
    "3. **Improve Model Performance**: Clean and complete data contributes to more accurate and reliable model performance.\n"
   ]
  },
  {
   "cell_type": "code",
   "execution_count": 165,
   "metadata": {},
   "outputs": [
    {
     "name": "stdout",
     "output_type": "stream",
     "text": [
      "100\n"
     ]
    }
   ],
   "source": [
    "# Sample data without Droping Rows with NAN Values\n",
    "print(len(data))\n"
   ]
  },
  {
   "cell_type": "code",
   "execution_count": 167,
   "metadata": {},
   "outputs": [],
   "source": [
    "# Drop rows with NaN values in the text column\n",
    "data = data.dropna(subset=['Tweet'])"
   ]
  },
  {
   "cell_type": "code",
   "execution_count": 168,
   "metadata": {},
   "outputs": [
    {
     "name": "stdout",
     "output_type": "stream",
     "text": [
      "100\n"
     ]
    }
   ],
   "source": [
    "# Sample data After Droping Rows with NAN Values\n",
    "print(len(data))"
   ]
  },
  {
   "cell_type": "markdown",
   "metadata": {},
   "source": [
    "## Step 3.5: Apply Data Cleaning\n",
    "Remove symbol and numbers \n",
    "Data in original format"
   ]
  },
  {
   "cell_type": "code",
   "execution_count": 169,
   "metadata": {},
   "outputs": [
    {
     "data": {
      "text/plain": [
       "0               False alarm // matoma &amp; Becky hill\n",
       "1    I'm tired of everybody telling me to chill out...\n",
       "2    Im so serious about putting words in my mouth ...\n",
       "3    Can someone make me a priority list of which t...\n",
       "4    @TeaPartyOrg Hes right when the Civil war star...\n",
       "Name: Tweet, dtype: object"
      ]
     },
     "execution_count": 169,
     "metadata": {},
     "output_type": "execute_result"
    }
   ],
   "source": [
    "data['Tweet'].head()\n"
   ]
  },
  {
   "cell_type": "markdown",
   "metadata": {},
   "source": [
    "### Apply function to remove symbols and numbers"
   ]
  },
  {
   "cell_type": "code",
   "execution_count": 170,
   "metadata": {},
   "outputs": [],
   "source": [
    "data['Tweet'] = data['Tweet'].apply(remove_symbols_numbers)\n"
   ]
  },
  {
   "cell_type": "markdown",
   "metadata": {},
   "source": [
    "### See data again to see the implementation of removal of symbols and numbers"
   ]
  },
  {
   "cell_type": "code",
   "execution_count": 171,
   "metadata": {},
   "outputs": [
    {
     "data": {
      "text/plain": [
       "0                   False alarm  matoma amp Becky hill\n",
       "1    Im tired of everybody telling me to chill out ...\n",
       "2    Im so serious about putting words in my mouth ...\n",
       "3    Can someone make me a priority list of which t...\n",
       "4    TeaPartyOrg Hes right when the Civil war start...\n",
       "Name: Tweet, dtype: object"
      ]
     },
     "execution_count": 171,
     "metadata": {},
     "output_type": "execute_result"
    }
   ],
   "source": [
    "data['Tweet'].head()\n"
   ]
  },
  {
   "cell_type": "markdown",
   "metadata": {},
   "source": [
    "### Apply function to convert to lower case"
   ]
  },
  {
   "cell_type": "code",
   "execution_count": 172,
   "metadata": {},
   "outputs": [],
   "source": [
    "data['Tweet'] = data['Tweet'].apply(to_lowercase)"
   ]
  },
  {
   "cell_type": "code",
   "execution_count": 173,
   "metadata": {},
   "outputs": [
    {
     "data": {
      "text/plain": [
       "0                   false alarm  matoma amp becky hill\n",
       "1    im tired of everybody telling me to chill out ...\n",
       "2    im so serious about putting words in my mouth ...\n",
       "3    can someone make me a priority list of which t...\n",
       "4    teapartyorg hes right when the civil war start...\n",
       "Name: Tweet, dtype: object"
      ]
     },
     "execution_count": 173,
     "metadata": {},
     "output_type": "execute_result"
    }
   ],
   "source": [
    "data['Tweet'].head()"
   ]
  },
  {
   "cell_type": "markdown",
   "metadata": {},
   "source": [
    "### Apply function to remove stop words"
   ]
  },
  {
   "cell_type": "code",
   "execution_count": 174,
   "metadata": {},
   "outputs": [],
   "source": [
    "data['Tweet'] = data['Tweet'].apply(remove_stopwords)"
   ]
  },
  {
   "cell_type": "code",
   "execution_count": 175,
   "metadata": {},
   "outputs": [
    {
     "data": {
      "text/plain": [
       "0                    false alarm matoma amp becky hill\n",
       "1    im tired everybody telling chill everythings o...\n",
       "2    im serious putting words mouth bitch dont add ...\n",
       "3    someone make priority list things outraged ord...\n",
       "4    teapartyorg hes right civil war starts wall wa...\n",
       "Name: Tweet, dtype: object"
      ]
     },
     "execution_count": 175,
     "metadata": {},
     "output_type": "execute_result"
    }
   ],
   "source": [
    "data['Tweet'].head()"
   ]
  },
  {
   "cell_type": "markdown",
   "metadata": {},
   "source": [
    "### Following function contains the all three tasks for the sake of simplicity we dividied it in three parts."
   ]
  },
  {
   "cell_type": "markdown",
   "metadata": {},
   "source": [
    "## Step 3.6: Data After Processing"
   ]
  },
  {
   "cell_type": "code",
   "execution_count": 176,
   "metadata": {},
   "outputs": [
    {
     "name": "stdout",
     "output_type": "stream",
     "text": [
      "\n",
      "\n",
      "Emotion Prediction Data After Preprocessing:\n",
      "=================================================\n",
      "\n",
      "                                               Tweet Emotion\n",
      "0                  false alarm matoma amp becky hill   anger\n",
      "1  im tired everybody telling chill everythings o...   anger\n",
      "2  im serious putting words mouth bitch dont add ...   anger\n",
      "3  someone make priority list things outraged ord...   anger\n",
      "4  teapartyorg hes right civil war starts wall wa...   anger\n"
     ]
    }
   ],
   "source": [
    "\n",
    "print(\"\\n\\nEmotion Prediction Data After Preprocessing:\")\n",
    "print(\"=================================================\\n\")\n",
    "pd.set_option(\"display.max_rows\", None, \"display.max_columns\", None)\n",
    "\n",
    "print(data.head())\n"
   ]
  },
  {
   "cell_type": "markdown",
   "metadata": {},
   "source": [
    "### We have to show tweet first and than to show the sentiment type to make things standardized"
   ]
  },
  {
   "cell_type": "markdown",
   "metadata": {},
   "source": [
    "## Step 3.7: Saving Cleaned Data as Seperate CSV File\n"
   ]
  },
  {
   "cell_type": "code",
   "execution_count": 177,
   "metadata": {},
   "outputs": [],
   "source": [
    "data.to_csv(\"cleaned_emotion_data.csv\", index=False)"
   ]
  },
  {
   "cell_type": "code",
   "execution_count": 179,
   "metadata": {},
   "outputs": [
    {
     "data": {
      "text/plain": [
       "Index(['Tweet', 'Emotion'], dtype='object')"
      ]
     },
     "execution_count": 179,
     "metadata": {},
     "output_type": "execute_result"
    }
   ],
   "source": [
    "data.columns"
   ]
  },
  {
   "cell_type": "markdown",
   "metadata": {},
   "source": [
    "# Step 4: Splitting Sample Data into Training Data and Testing Data\n"
   ]
  },
  {
   "cell_type": "markdown",
   "metadata": {},
   "source": [
    "### Train-Test Split\n",
    "\n",
    "#### Purpose of Train-Test Split\n",
    "\n",
    "Splitting the dataset into training and testing sets is a crucial step in the machine learning pipeline. It allows us to train our model on one subset of the data and evaluate its performance on another, unseen subset. This helps in assessing the model's ability to generalize to new data.\n",
    "\n",
    "#### Why Split the Data First?\n",
    "\n",
    "Before we can train a machine learning model, we need to split the data into training and testing sets. This ensures that we can evaluate the model's performance on data it hasn't seen during training. Additionally, we need to train the vectorizer (such as TF-IDF) on the training data to convert text to numerical features. Training the vectorizer on the training data ensures that it learns the vocabulary and importance of terms from the training set only, preventing any data leakage from the test set.\n",
    "\n",
    "### TF-IDF Vectorization\n",
    "\n",
    "#### Definition of TF-IDF\n",
    "\n",
    "TF-IDF stands for Term Frequency-Inverse Document Frequency. It is a statistical measure used to evaluate the importance of a word in a document relative to a collection of documents (corpus). The TF-IDF score increases proportionally to the number of times a word appears in a document but is offset by the frequency of the word in the corpus.\n",
    "\n",
    "- **Term Frequency (TF)**: Measures how frequently a term occurs in a document. \n",
    "  - TF(t) = (Number of times term t appears in a document) / (Total number of terms in the document)\n",
    "\n",
    "- **Inverse Document Frequency (IDF)**: Measures how important a term is. \n",
    "  - IDF(t) = log_e(Total number of documents / Number of documents with term t in it)\n",
    "\n",
    "- **TF-IDF**: The product of TF and IDF.\n",
    "  - TF-IDF(t) = TF(t) * IDF(t)\n",
    "\n",
    "#### Reason for Selecting TF-IDF\n",
    "\n",
    "TF-IDF is selected for vectorizing the text data because it not only considers the frequency of words within a document (like Term Frequency) but also adjusts for the fact that some words are generally more common than others (Inverse Document Frequency). This helps in highlighting the more meaningful words in a document and downplaying the less informative ones. \n",
    "\n",
    "Using TF-IDF allows us to convert text data into numerical features that can be used to train machine learning models. This vectorization is essential for applying algorithms that require numerical input.\n",
    "\n",
    "For more details on TF-IDF, you can refer to the [scikit-learn documentation](https://scikit-learn.org/stable/modules/generated/sklearn.feature_extraction.text.TfidfVectorizer.html)."
   ]
  },
  {
   "cell_type": "markdown",
   "metadata": {},
   "source": [
    "### Splitting Data into Features and Labels\n",
    "\n",
    "In this step, we separate our data into features (X) and labels (y). The features (X) are the input data that the model will learn from, while the labels (y) are the target values that we want to predict.\n",
    "\n",
    "```python\n",
    "X = data['tweet']\n",
    "y = data['sentiment_type']\n"
   ]
  },
  {
   "cell_type": "code",
   "execution_count": 180,
   "metadata": {},
   "outputs": [],
   "source": [
    "data = pd.read_csv('cleaned_emotion_data.csv')\n",
    "X = data['Tweet']\n",
    "y = data['Emotion']\n",
    "\n",
    "X_train, X_test, y_train, y_test = train_test_split(X, y, test_size=0.2, random_state=42)"
   ]
  },
  {
   "cell_type": "markdown",
   "metadata": {},
   "source": [
    "### Explanation of Parameters\n",
    "\n",
    "- `train_test_split` is a function from the `sklearn.model_selection` module that splits the data into training and testing sets.\n",
    "- `X_train` and `y_train` are the features and labels for the training set.\n",
    "- `X_test` and `y_test` are the features and labels for the testing set.\n",
    "\n",
    "#### Parameters:\n",
    "\n",
    "1. **X and y**:\n",
    "   - `X`: The features or input data, which in this case is the 'tweet' column containing the text data.\n",
    "   - `y`: The labels or target values, which in this case is the 'sentiment_type' column indicating the sentiment of each tweet.\n",
    "\n",
    "2. **test_size**:\n",
    "   - `test_size=0.2` specifies that 20% of the data should be used as the testing set, and the remaining 80% will be used as the training set.\n",
    "   - The `test_size` parameter determines the proportion of the dataset to include in the test split. In this example, 0.2 means that 20% of the data will be allocated to the test set, and 80% will be allocated to the training set.\n",
    "   - Example: If the dataset contains 1000 samples, `test_size=0.2` means 800 samples will be used for training, and 200 samples will be used for testing.\n",
    "\n",
    "3. **random_state**:\n",
    "   - `random_state=42` ensures that the split is reproducible. Using the same `random_state` value will always result in the same split.\n",
    "   - The `random_state` parameter controls the shuffling applied to the data before applying the split. Providing a fixed value (e.g., 42) ensures that you get the same train-test split every time you run the code. This is useful for reproducibility and debugging.\n",
    "   - Example: If you set `random_state=42`, the data will be shuffled in the same way each time you run the code, resulting in the same training and testing sets.\n",
    "\n",
    "By performing this split, we ensure that we have separate datasets for training and evaluating our model, which is crucial for assessing the model's ability to generalize to new data.\n"
   ]
  },
  {
   "cell_type": "code",
   "execution_count": 181,
   "metadata": {},
   "outputs": [
    {
     "name": "stdout",
     "output_type": "stream",
     "text": [
      "80\n",
      "20\n"
     ]
    }
   ],
   "source": [
    "print(len(X_train))\n",
    "print(len(X_test))"
   ]
  },
  {
   "cell_type": "code",
   "execution_count": 182,
   "metadata": {},
   "outputs": [
    {
     "data": {
      "text/plain": [
       "55    focus dont let others love define youre happy ...\n",
       "88    ronaldo shocking hes tried skill twice hes nea...\n",
       "26         andreasarahco actually heely campus bc scare\n",
       "42    thank disney themed episode letting discover a...\n",
       "69    jeremycorbyn magstogether god jeremycorbyn ful...\n",
       "15    patblanchfield mean like uber despair someone ...\n",
       "40             want playful relationshipnme kicks couch\n",
       "96                              american schools lively\n",
       "9     collects times minerva would chew cape begins ...\n",
       "72    mendiphillsaonb think swallows swifts gone pho...\n",
       "11    omg actually thought going jump southpark sout...\n",
       "47                                       teamgrout glee\n",
       "85    texans astros shut tonight houston back normal...\n",
       "28    old lady cray cray scared bellaissocute awe em...\n",
       "93    tabstamlyn larahunt next time ill make sure ev...\n",
       "5     harboring osama bin laden relationship haqqani...\n",
       "66    much hair nightmare also soft guess winlose si...\n",
       "65    told chiropractor im good time long time quest...\n",
       "35                   seanunfiltered texans scared bunch\n",
       "16                                                awful\n",
       "49        mickeyplyler qualktalk refs gts favor tonight\n",
       "34         induction day tomorrow pizza express nervous\n",
       "7     pastor feet away shooting victim protest says ...\n",
       "95     riggs dumb ass hell lolol hilarious lethalweapon\n",
       "27    hmiglino cparks cocowms bodyfit truthequalsfac...\n",
       "19    leave rulenimber carpet cleaning worsethananat...\n",
       "81    finally leaving first job soon ive working sin...\n",
       "25    wake fresh terror threat sounding alert mumbai...\n",
       "62    rejoice birth grieve funeral person involved m...\n",
       "13    lanewoolery ffkazman experience plays role edu...\n",
       "24    steviet talksport sound like broadcasted someo...\n",
       "3     someone make priority list things outraged ord...\n",
       "17    thehill george h establishment unhappy trumps ...\n",
       "38    thats cute atsu probably shy photos cherry hel...\n",
       "8     guys dating yet trans nervous blowjobs tfb dat...\n",
       "78                 summer officially ends today sadness\n",
       "6     tomorrow last episode despair arc much shit go...\n",
       "64    point living optimist foolish enough believe b...\n",
       "36                                     india afraid bad\n",
       "89                im confused new american horror story\n",
       "56    sadness leaves broken bed hold depths despair ...\n",
       "99    prosyndicate thanks replying im ironing shirt ...\n",
       "54    bietron dont sad btw good night davinago sleep...\n",
       "43    radiox chrismoyles wow heard forever random gr...\n",
       "50            niceonewern alottapain gleesome threesome\n",
       "67    carry wayward son therell peace done lay weary...\n",
       "46    mannersaboveall laughs louder time shaking hea...\n",
       "68    embarrassed saw us like knvfkkjg thinks stalke...\n",
       "61               may optimism tomorrow foundation today\n",
       "97          accept challenges feel exhilaration victory\n",
       "79    final vestiges childhood dashed shoals hearing...\n",
       "41    happy birthday stephen king man responsible be...\n",
       "58    patti seems sad stamped ran behind sofa give p...\n",
       "48    mate thing get excited profession mad client s...\n",
       "98    ever stayed hostels overseas frame reference m...\n",
       "57              follow girl tiff got followers tiffanyr\n",
       "75    possible changing meds best done stress diffic...\n",
       "32                     leafyishere showing biceps scare\n",
       "94    janhopis found first episodes bojack incredibl...\n",
       "59    believed fear allah believe messenger give dou...\n",
       "63    gloriosa bazigaga rwanda work lost relatives g...\n",
       "84    muscled man huge heart messing brain heart los...\n",
       "37            man u lose may actually nervous breakdown\n",
       "29                               hi names anxiety shaun\n",
       "1     im tired everybody telling chill everythings o...\n",
       "52                                                meant\n",
       "21    michaelsalfino still destroys fear walking dea...\n",
       "2     im serious putting words mouth bitch dont add ...\n",
       "23    metpolicefc true none players cops drink chill...\n",
       "87    thixotropic sudden hasnt sunk yet leo knew coming\n",
       "91    hollylolly serious respect man pull bun better...\n",
       "74                  weeks full mondays end disheartened\n",
       "86    last episode makingamurderer poor brendan glad...\n",
       "82     brawndo cure depression mikejudge idiocracytoday\n",
       "20                                vladfucker look rabid\n",
       "60    saved ordering risk life didnt panic stayed ca...\n",
       "71       one wants win wild card play cubs road sadness\n",
       "14    montelwilliams ban goes harm many people disab...\n",
       "92    wildrovertours thank follow good website cheer...\n",
       "51    cigarette burning lauras hand angle chin purse...\n",
       "Name: Tweet, dtype: object"
      ]
     },
     "execution_count": 182,
     "metadata": {},
     "output_type": "execute_result"
    }
   ],
   "source": [
    "X_train"
   ]
  },
  {
   "cell_type": "markdown",
   "metadata": {},
   "source": [
    "### Step 4.1: Feature Extraction\n"
   ]
  },
  {
   "cell_type": "markdown",
   "metadata": {},
   "source": [
    "### TF-IDF Vectorization\n",
    "\n",
    "In this step, we use the `TfidfVectorizer` from the `sklearn.feature_extraction.text` module to convert the text data into numerical features based on the TF-IDF (Term Frequency-Inverse Document Frequency) representation. This helps in capturing the importance of words in the context of the documents they appear in.\n"
   ]
  },
  {
   "cell_type": "code",
   "execution_count": 183,
   "metadata": {},
   "outputs": [],
   "source": [
    "# Initialize the TfidfVectorizer\n",
    "vectorizer = TfidfVectorizer(max_features=10)"
   ]
  },
  {
   "cell_type": "markdown",
   "metadata": {},
   "source": [
    "### Fitting the Vectorizer on the Training Data\n",
    "\n",
    "Before we can transform our text data into TF-IDF features, we need to fit the `TfidfVectorizer` on the training data. This step is crucial as it allows the vectorizer to learn the vocabulary and the importance of each term based on the training data.\n"
   ]
  },
  {
   "cell_type": "code",
   "execution_count": 184,
   "metadata": {},
   "outputs": [
    {
     "data": {
      "text/html": [
       "<style>#sk-container-id-3 {color: black;background-color: white;}#sk-container-id-3 pre{padding: 0;}#sk-container-id-3 div.sk-toggleable {background-color: white;}#sk-container-id-3 label.sk-toggleable__label {cursor: pointer;display: block;width: 100%;margin-bottom: 0;padding: 0.3em;box-sizing: border-box;text-align: center;}#sk-container-id-3 label.sk-toggleable__label-arrow:before {content: \"▸\";float: left;margin-right: 0.25em;color: #696969;}#sk-container-id-3 label.sk-toggleable__label-arrow:hover:before {color: black;}#sk-container-id-3 div.sk-estimator:hover label.sk-toggleable__label-arrow:before {color: black;}#sk-container-id-3 div.sk-toggleable__content {max-height: 0;max-width: 0;overflow: hidden;text-align: left;background-color: #f0f8ff;}#sk-container-id-3 div.sk-toggleable__content pre {margin: 0.2em;color: black;border-radius: 0.25em;background-color: #f0f8ff;}#sk-container-id-3 input.sk-toggleable__control:checked~div.sk-toggleable__content {max-height: 200px;max-width: 100%;overflow: auto;}#sk-container-id-3 input.sk-toggleable__control:checked~label.sk-toggleable__label-arrow:before {content: \"▾\";}#sk-container-id-3 div.sk-estimator input.sk-toggleable__control:checked~label.sk-toggleable__label {background-color: #d4ebff;}#sk-container-id-3 div.sk-label input.sk-toggleable__control:checked~label.sk-toggleable__label {background-color: #d4ebff;}#sk-container-id-3 input.sk-hidden--visually {border: 0;clip: rect(1px 1px 1px 1px);clip: rect(1px, 1px, 1px, 1px);height: 1px;margin: -1px;overflow: hidden;padding: 0;position: absolute;width: 1px;}#sk-container-id-3 div.sk-estimator {font-family: monospace;background-color: #f0f8ff;border: 1px dotted black;border-radius: 0.25em;box-sizing: border-box;margin-bottom: 0.5em;}#sk-container-id-3 div.sk-estimator:hover {background-color: #d4ebff;}#sk-container-id-3 div.sk-parallel-item::after {content: \"\";width: 100%;border-bottom: 1px solid gray;flex-grow: 1;}#sk-container-id-3 div.sk-label:hover label.sk-toggleable__label {background-color: #d4ebff;}#sk-container-id-3 div.sk-serial::before {content: \"\";position: absolute;border-left: 1px solid gray;box-sizing: border-box;top: 0;bottom: 0;left: 50%;z-index: 0;}#sk-container-id-3 div.sk-serial {display: flex;flex-direction: column;align-items: center;background-color: white;padding-right: 0.2em;padding-left: 0.2em;position: relative;}#sk-container-id-3 div.sk-item {position: relative;z-index: 1;}#sk-container-id-3 div.sk-parallel {display: flex;align-items: stretch;justify-content: center;background-color: white;position: relative;}#sk-container-id-3 div.sk-item::before, #sk-container-id-3 div.sk-parallel-item::before {content: \"\";position: absolute;border-left: 1px solid gray;box-sizing: border-box;top: 0;bottom: 0;left: 50%;z-index: -1;}#sk-container-id-3 div.sk-parallel-item {display: flex;flex-direction: column;z-index: 1;position: relative;background-color: white;}#sk-container-id-3 div.sk-parallel-item:first-child::after {align-self: flex-end;width: 50%;}#sk-container-id-3 div.sk-parallel-item:last-child::after {align-self: flex-start;width: 50%;}#sk-container-id-3 div.sk-parallel-item:only-child::after {width: 0;}#sk-container-id-3 div.sk-dashed-wrapped {border: 1px dashed gray;margin: 0 0.4em 0.5em 0.4em;box-sizing: border-box;padding-bottom: 0.4em;background-color: white;}#sk-container-id-3 div.sk-label label {font-family: monospace;font-weight: bold;display: inline-block;line-height: 1.2em;}#sk-container-id-3 div.sk-label-container {text-align: center;}#sk-container-id-3 div.sk-container {/* jupyter's `normalize.less` sets `[hidden] { display: none; }` but bootstrap.min.css set `[hidden] { display: none !important; }` so we also need the `!important` here to be able to override the default hidden behavior on the sphinx rendered scikit-learn.org. See: https://github.com/scikit-learn/scikit-learn/issues/21755 */display: inline-block !important;position: relative;}#sk-container-id-3 div.sk-text-repr-fallback {display: none;}</style><div id=\"sk-container-id-3\" class=\"sk-top-container\"><div class=\"sk-text-repr-fallback\"><pre>TfidfVectorizer(max_features=10)</pre><b>In a Jupyter environment, please rerun this cell to show the HTML representation or trust the notebook. <br />On GitHub, the HTML representation is unable to render, please try loading this page with nbviewer.org.</b></div><div class=\"sk-container\" hidden><div class=\"sk-item\"><div class=\"sk-estimator sk-toggleable\"><input class=\"sk-toggleable__control sk-hidden--visually\" id=\"sk-estimator-id-3\" type=\"checkbox\" checked><label for=\"sk-estimator-id-3\" class=\"sk-toggleable__label sk-toggleable__label-arrow\">TfidfVectorizer</label><div class=\"sk-toggleable__content\"><pre>TfidfVectorizer(max_features=10)</pre></div></div></div></div></div>"
      ],
      "text/plain": [
       "TfidfVectorizer(max_features=10)"
      ]
     },
     "execution_count": 184,
     "metadata": {},
     "output_type": "execute_result"
    }
   ],
   "source": [
    "# Fit the vectorizer on the training data\n",
    "vectorizer.fit(X_train)"
   ]
  },
  {
   "cell_type": "markdown",
   "metadata": {},
   "source": [
    "### Transforming the Training Data\n",
    "\n",
    "After fitting the `TfidfVectorizer` on the training data, the next step is to transform the training text data into a TF-IDF feature matrix. This matrix will be used to train our machine learning model.\n"
   ]
  },
  {
   "cell_type": "code",
   "execution_count": 185,
   "metadata": {},
   "outputs": [],
   "source": [
    "# Transform the training data\n",
    "X_train_tfidf = vectorizer.transform(X_train)\n"
   ]
  },
  {
   "cell_type": "markdown",
   "metadata": {},
   "source": [
    "### Converting the TF-IDF Sparse Matrix to a DataFrame\n",
    "\n",
    "After transforming the text data into a TF-IDF feature matrix, we convert this sparse matrix into a DataFrame. This makes it easier to inspect and manipulate the data.\n"
   ]
  },
  {
   "cell_type": "code",
   "execution_count": 186,
   "metadata": {},
   "outputs": [
    {
     "name": "stdout",
     "output_type": "stream",
     "text": [
      "\n",
      "TF-IDF Features DataFrame:\n",
      "   despair      dont   im  like      love  man  sad  sadness  time  yet\n",
      "0      0.0  0.894427  0.0   0.0  0.447214  0.0  0.0      0.0   0.0  0.0\n",
      "1      0.0  0.000000  0.0   0.0  0.000000  0.0  0.0      0.0   0.0  0.0\n",
      "2      0.0  0.000000  0.0   0.0  0.000000  0.0  0.0      0.0   0.0  0.0\n",
      "3      0.0  0.000000  0.0   0.0  0.000000  0.0  0.0      0.0   0.0  0.0\n",
      "4      0.0  0.000000  0.0   0.0  0.000000  0.0  1.0      0.0   0.0  0.0\n"
     ]
    }
   ],
   "source": [
    "\n",
    "# Convert the TF-IDF sparse matrix to a DataFrame\n",
    "X_train_tfidf_df = pd.DataFrame(X_train_tfidf.toarray(), columns=vectorizer.get_feature_names_out())\n",
    "\n",
    "print(\"\\nTF-IDF Features DataFrame:\")\n",
    "print(X_train_tfidf_df.head())\n"
   ]
  },
  {
   "cell_type": "markdown",
   "metadata": {},
   "source": [
    "### Transforming and Converting the Test Data\n",
    "\n",
    "These steps are similar to the ones we performed on the training data, but now we are applying them to the test data.\n"
   ]
  },
  {
   "cell_type": "code",
   "execution_count": 187,
   "metadata": {},
   "outputs": [
    {
     "name": "stdout",
     "output_type": "stream",
     "text": [
      "\n",
      "TF-IDF Features DataFrame:\n",
      "   despair  dont        im  like  love  man       sad  sadness  time  yet\n",
      "0      0.0   0.0  0.000000   1.0   0.0  0.0  0.000000      0.0   0.0  0.0\n",
      "1      0.0   0.0  0.000000   0.0   1.0  0.0  0.000000      0.0   0.0  0.0\n",
      "2      0.0   0.0  0.658856   0.0   0.0  0.0  0.752269      0.0   0.0  0.0\n",
      "3      0.0   0.0  0.000000   0.0   0.0  0.0  0.000000      0.0   0.0  0.0\n",
      "4      0.0   0.0  0.000000   0.0   0.0  0.0  0.000000      0.0   0.0  0.0\n"
     ]
    }
   ],
   "source": [
    "\n",
    "# Transform the training data\n",
    "X_test_tfidf = vectorizer.transform(X_test)\n",
    "\n",
    "# Convert the TF-IDF sparse matrix to a DataFrame\n",
    "X_test_tfidf_df = pd.DataFrame(X_test_tfidf.toarray(), columns=vectorizer.get_feature_names_out())\n",
    "\n",
    "print(\"\\nTF-IDF Features DataFrame:\")\n",
    "print(X_test_tfidf_df.head())\n",
    "\n",
    "#to do Parameter tuninng we are not clear how many features are optimal "
   ]
  },
  {
   "cell_type": "markdown",
   "metadata": {},
   "source": [
    "# Step 5 : Label Encoding does not required."
   ]
  },
  {
   "cell_type": "markdown",
   "metadata": {},
   "source": [
    "# Step 6: Execute the Training Phase \n",
    "## Step 6.1: Training Data and Testing Data"
   ]
  },
  {
   "cell_type": "markdown",
   "metadata": {},
   "source": [
    "## Step 6.2: Train the model\n",
    "\n",
    "### Training the Model\n",
    "\n",
    "In this step, we train a machine learning model using the TF-IDF features from the training data.\n",
    "\n",
    "`MultinomialNB()`: This initializes a Multinomial Naive Bayes classifier, which is well-suited for classification with discrete features like word counts or TF-IDF scores.\n",
    "`model.fit(X_train_tfidf, y_train)`: This method trains the Multinomial Naive Bayes model using the TF-IDF features (X_train_tfidf) and the corresponding labels (y_train). The model learns the relationship between the features and the labels, which will later be used to make predictions on new data."
   ]
  },
  {
   "cell_type": "code",
   "execution_count": 188,
   "metadata": {},
   "outputs": [
    {
     "data": {
      "text/html": [
       "<style>#sk-container-id-4 {color: black;background-color: white;}#sk-container-id-4 pre{padding: 0;}#sk-container-id-4 div.sk-toggleable {background-color: white;}#sk-container-id-4 label.sk-toggleable__label {cursor: pointer;display: block;width: 100%;margin-bottom: 0;padding: 0.3em;box-sizing: border-box;text-align: center;}#sk-container-id-4 label.sk-toggleable__label-arrow:before {content: \"▸\";float: left;margin-right: 0.25em;color: #696969;}#sk-container-id-4 label.sk-toggleable__label-arrow:hover:before {color: black;}#sk-container-id-4 div.sk-estimator:hover label.sk-toggleable__label-arrow:before {color: black;}#sk-container-id-4 div.sk-toggleable__content {max-height: 0;max-width: 0;overflow: hidden;text-align: left;background-color: #f0f8ff;}#sk-container-id-4 div.sk-toggleable__content pre {margin: 0.2em;color: black;border-radius: 0.25em;background-color: #f0f8ff;}#sk-container-id-4 input.sk-toggleable__control:checked~div.sk-toggleable__content {max-height: 200px;max-width: 100%;overflow: auto;}#sk-container-id-4 input.sk-toggleable__control:checked~label.sk-toggleable__label-arrow:before {content: \"▾\";}#sk-container-id-4 div.sk-estimator input.sk-toggleable__control:checked~label.sk-toggleable__label {background-color: #d4ebff;}#sk-container-id-4 div.sk-label input.sk-toggleable__control:checked~label.sk-toggleable__label {background-color: #d4ebff;}#sk-container-id-4 input.sk-hidden--visually {border: 0;clip: rect(1px 1px 1px 1px);clip: rect(1px, 1px, 1px, 1px);height: 1px;margin: -1px;overflow: hidden;padding: 0;position: absolute;width: 1px;}#sk-container-id-4 div.sk-estimator {font-family: monospace;background-color: #f0f8ff;border: 1px dotted black;border-radius: 0.25em;box-sizing: border-box;margin-bottom: 0.5em;}#sk-container-id-4 div.sk-estimator:hover {background-color: #d4ebff;}#sk-container-id-4 div.sk-parallel-item::after {content: \"\";width: 100%;border-bottom: 1px solid gray;flex-grow: 1;}#sk-container-id-4 div.sk-label:hover label.sk-toggleable__label {background-color: #d4ebff;}#sk-container-id-4 div.sk-serial::before {content: \"\";position: absolute;border-left: 1px solid gray;box-sizing: border-box;top: 0;bottom: 0;left: 50%;z-index: 0;}#sk-container-id-4 div.sk-serial {display: flex;flex-direction: column;align-items: center;background-color: white;padding-right: 0.2em;padding-left: 0.2em;position: relative;}#sk-container-id-4 div.sk-item {position: relative;z-index: 1;}#sk-container-id-4 div.sk-parallel {display: flex;align-items: stretch;justify-content: center;background-color: white;position: relative;}#sk-container-id-4 div.sk-item::before, #sk-container-id-4 div.sk-parallel-item::before {content: \"\";position: absolute;border-left: 1px solid gray;box-sizing: border-box;top: 0;bottom: 0;left: 50%;z-index: -1;}#sk-container-id-4 div.sk-parallel-item {display: flex;flex-direction: column;z-index: 1;position: relative;background-color: white;}#sk-container-id-4 div.sk-parallel-item:first-child::after {align-self: flex-end;width: 50%;}#sk-container-id-4 div.sk-parallel-item:last-child::after {align-self: flex-start;width: 50%;}#sk-container-id-4 div.sk-parallel-item:only-child::after {width: 0;}#sk-container-id-4 div.sk-dashed-wrapped {border: 1px dashed gray;margin: 0 0.4em 0.5em 0.4em;box-sizing: border-box;padding-bottom: 0.4em;background-color: white;}#sk-container-id-4 div.sk-label label {font-family: monospace;font-weight: bold;display: inline-block;line-height: 1.2em;}#sk-container-id-4 div.sk-label-container {text-align: center;}#sk-container-id-4 div.sk-container {/* jupyter's `normalize.less` sets `[hidden] { display: none; }` but bootstrap.min.css set `[hidden] { display: none !important; }` so we also need the `!important` here to be able to override the default hidden behavior on the sphinx rendered scikit-learn.org. See: https://github.com/scikit-learn/scikit-learn/issues/21755 */display: inline-block !important;position: relative;}#sk-container-id-4 div.sk-text-repr-fallback {display: none;}</style><div id=\"sk-container-id-4\" class=\"sk-top-container\"><div class=\"sk-text-repr-fallback\"><pre>MultinomialNB()</pre><b>In a Jupyter environment, please rerun this cell to show the HTML representation or trust the notebook. <br />On GitHub, the HTML representation is unable to render, please try loading this page with nbviewer.org.</b></div><div class=\"sk-container\" hidden><div class=\"sk-item\"><div class=\"sk-estimator sk-toggleable\"><input class=\"sk-toggleable__control sk-hidden--visually\" id=\"sk-estimator-id-4\" type=\"checkbox\" checked><label for=\"sk-estimator-id-4\" class=\"sk-toggleable__label sk-toggleable__label-arrow\">MultinomialNB</label><div class=\"sk-toggleable__content\"><pre>MultinomialNB()</pre></div></div></div></div></div>"
      ],
      "text/plain": [
       "MultinomialNB()"
      ]
     },
     "execution_count": 188,
     "metadata": {},
     "output_type": "execute_result"
    }
   ],
   "source": [
    "# Training the model\n",
    "model = MultinomialNB()\n",
    "model.fit(X_train_tfidf, y_train)\n"
   ]
  },
  {
   "cell_type": "markdown",
   "metadata": {},
   "source": [
    "## Step 6.3: Save the trained model\n",
    "\n",
    "After training the model, it's important to save both the trained model and the TF-IDF vectorizer to disk. This allows us to reuse them later without retraining, which saves time and computational resources.\n"
   ]
  },
  {
   "cell_type": "code",
   "execution_count": 189,
   "metadata": {},
   "outputs": [
    {
     "data": {
      "text/plain": [
       "['tfidf_vectorizer.pkl']"
      ]
     },
     "execution_count": 189,
     "metadata": {},
     "output_type": "execute_result"
    }
   ],
   "source": [
    "# Save the model to disk\n",
    "joblib.dump(model, 'naive_bayes_model.pkl')\n",
    "\n",
    "# Save the vectorizer to disk\n",
    "joblib.dump(vectorizer, 'tfidf_vectorizer.pkl')\n"
   ]
  },
  {
   "cell_type": "markdown",
   "metadata": {},
   "source": [
    "# Step 7: Execute the Testing Phase \n",
    "## Step 7.1: Load the Saved Model"
   ]
  },
  {
   "cell_type": "code",
   "execution_count": 190,
   "metadata": {},
   "outputs": [
    {
     "name": "stdout",
     "output_type": "stream",
     "text": [
      "Model loaded from 'naive_bayes_model.pkl'\n"
     ]
    }
   ],
   "source": [
    "import joblib\n",
    "\n",
    "# Load the model from disk\n",
    "loaded_model = joblib.load('naive_bayes_model.pkl')\n",
    "\n",
    "# Load the vectorizer from disk\n",
    "loaded_vectorizer = joblib.load('tfidf_vectorizer.pkl')\n",
    "\n",
    "print(f\"Model loaded from 'naive_bayes_model.pkl'\")\n",
    "\n"
   ]
  },
  {
   "cell_type": "markdown",
   "metadata": {},
   "source": [
    "## Step 7.2: Evaluate the Machine Learning Model\n",
    "\n",
    "### Transforming Test Data and Evaluating the Loaded Model\n",
    "\n",
    "Transform the test data using the loaded vectorizer: This step uses the loaded TF-IDF vectorizer to transform the test data (`X_test`) into the same TF-IDF feature matrix format as used during training.\n",
    "\n",
    "`X_test_tfidf_loaded = loaded_vectorizer.transform(X_test)`: This transforms the test text data into a TF-IDF feature matrix using the loaded vectorizer.\n",
    "\n",
    "Evaluate the loaded model: This step uses the loaded model to make predictions on the transformed test data and then evaluates the model's performance.\n",
    "\n",
    "`y_pred_loaded = loaded_model.predict(X_test_tfidf_loaded)`: This uses the loaded model to predict the labels for the transformed test data.\n",
    "`accuracy_loaded = accuracy_score(y_test, y_pred_loaded)`: This calculates the accuracy of the model's predictions by comparing the predicted labels (`y_pred_loaded`) with the true labels (`y_test`).\n",
    "`report_loaded = classification_report(y_test, y_pred_loaded)`: This generates a detailed classification report, which includes precision, recall, and F1-score for each class.\n",
    "\n",
    "Print the results: This step prints the accuracy and the classification report to provide a summary of the model's performance on the test data.\n",
    "\n",
    "`print(f\"Accuracy: {accuracy_loaded}\")`: This prints the accuracy of the model.\n",
    "`print(\"Classification Report:\")`: This prints a header for the classification report.\n",
    "`print(report_loaded)`: This prints the detailed classification report, providing insights into the model's performance across different classes.\n",
    "\n",
    "By transforming the test data and evaluating the loaded model, we can assess the model's ability to generalize to new, unseen data and ensure that it performs as expected.\n"
   ]
  },
  {
   "cell_type": "code",
   "execution_count": 195,
   "metadata": {},
   "outputs": [
    {
     "name": "stdout",
     "output_type": "stream",
     "text": [
      "Accuracy: 0.15\n",
      "Classification Report:\n",
      "              precision    recall  f1-score   support\n",
      "\n",
      "       anger       0.00      0.00      0.00         2\n",
      "anticipation       0.00      0.00      0.00         2\n",
      "     disgust       0.00      0.00      0.00         2\n",
      "        fear       0.17      0.67      0.27         3\n",
      "         joy       0.00      0.00      0.00         3\n",
      "        love       0.25      1.00      0.40         1\n",
      "   pessimism       0.00      0.00      0.00         2\n",
      "     sadness       0.00      0.00      0.00         4\n",
      "    surprise       0.00      0.00      0.00         1\n",
      "\n",
      "    accuracy                           0.15        20\n",
      "   macro avg       0.05      0.19      0.07        20\n",
      "weighted avg       0.04      0.15      0.06        20\n",
      "\n"
     ]
    },
    {
     "name": "stderr",
     "output_type": "stream",
     "text": [
      "C:\\Users\\Haris Ellahi\\anaconda3\\lib\\site-packages\\sklearn\\metrics\\_classification.py:1344: UndefinedMetricWarning: Precision and F-score are ill-defined and being set to 0.0 in labels with no predicted samples. Use `zero_division` parameter to control this behavior.\n",
      "  _warn_prf(average, modifier, msg_start, len(result))\n",
      "C:\\Users\\Haris Ellahi\\anaconda3\\lib\\site-packages\\sklearn\\metrics\\_classification.py:1344: UndefinedMetricWarning: Precision and F-score are ill-defined and being set to 0.0 in labels with no predicted samples. Use `zero_division` parameter to control this behavior.\n",
      "  _warn_prf(average, modifier, msg_start, len(result))\n",
      "C:\\Users\\Haris Ellahi\\anaconda3\\lib\\site-packages\\sklearn\\metrics\\_classification.py:1344: UndefinedMetricWarning: Precision and F-score are ill-defined and being set to 0.0 in labels with no predicted samples. Use `zero_division` parameter to control this behavior.\n",
      "  _warn_prf(average, modifier, msg_start, len(result))\n"
     ]
    }
   ],
   "source": [
    "# Transform the test data using the loaded vectorizer\n",
    "X_test_tfidf_loaded = loaded_vectorizer.transform(X_test)\n",
    "\n",
    "# Evaluate the loaded model\n",
    "y_pred_loaded = loaded_model.predict(X_test_tfidf_loaded)\n",
    "accuracy_loaded = accuracy_score(y_test, y_pred_loaded)\n",
    "report_loaded = classification_report(y_test, y_pred_loaded)\n",
    "\n",
    "print(f\"Accuracy: {accuracy_loaded}\")\n",
    "print(\"Classification Report:\")\n",
    "print(report_loaded)\n"
   ]
  },
  {
   "cell_type": "markdown",
   "metadata": {},
   "source": [
    "## Step 7.3: Displaying the Confusion Matrix\n",
    "\n",
    "### Confusion Matrix\n",
    "\n",
    "A confusion matrix is a useful tool for evaluating the performance of a classification model. It provides a summary of the prediction results on the test data, showing the number of correct and incorrect predictions broken down by each class.\n"
   ]
  },
  {
   "cell_type": "code",
   "execution_count": 197,
   "metadata": {},
   "outputs": [
    {
     "name": "stdout",
     "output_type": "stream",
     "text": [
      "Confusion Matrix:\n",
      "[[0 0 0 1 0 1 0 0 0]\n",
      " [0 0 0 1 0 1 0 0 0]\n",
      " [0 0 0 2 0 0 0 0 0]\n",
      " [0 0 1 2 0 0 0 0 0]\n",
      " [0 0 0 3 0 0 0 0 0]\n",
      " [0 0 0 0 0 1 0 0 0]\n",
      " [0 0 0 0 1 1 0 0 0]\n",
      " [0 0 1 2 1 0 0 0 0]\n",
      " [0 0 0 1 0 0 0 0 0]]\n"
     ]
    },
    {
     "data": {
      "image/png": "[encoded data removed]",
      "text/plain": [
       "<Figure size 1000x700 with 2 Axes>"
      ]
     },
     "metadata": {},
     "output_type": "display_data"
    }
   ],
   "source": [
    "\n",
    "# Confusion Matrix\n",
    "conf_matrix = confusion_matrix(y_test, y_pred_loaded)\n",
    "print(\"Confusion Matrix:\")\n",
    "print(conf_matrix)\n",
    "\n",
    "# Plot Confusion Matrix\n",
    "plt.figure(figsize=(10, 7))\n",
    "sns.heatmap(conf_matrix, annot=True, fmt='d', cmap='Blues', xticklabels=['Anger', 'Anticipation','disgust','fear','joy','love','optimisim','sadness','trust'], yticklabels=['Anger', 'Anticipation','disgust','fear','joy','love','optimisim','sadness','trust'])\n",
    "plt.xlabel('Predicted')\n",
    "plt.ylabel('Actual')\n",
    "plt.title('Confusion Matrix')\n",
    "plt.show()\n"
   ]
  },
  {
   "cell_type": "markdown",
   "metadata": {},
   "source": [
    "# Step 8: Execute the Application Phase\n",
    "## Step 8.1: Take Input from User, Preprocess it \n"
   ]
  },
  {
   "cell_type": "code",
   "execution_count": 198,
   "metadata": {},
   "outputs": [
    {
     "name": "stdout",
     "output_type": "stream",
     "text": [
      "Please enter your text: Thanks for helping me.\n"
     ]
    }
   ],
   "source": [
    "# Take user input\n",
    "user_input = input(\"Please enter your text: \").strip()\n",
    "\n",
    "# Preprocess the user input\n",
    "def preprocess_user_input(text):\n",
    "    stop_words = set(stopwords.words('english'))\n",
    "    text = re.sub(r'[^a-zA-Z\\s]', '', text)\n",
    "    text = text.lower()\n",
    "    text = ' '.join(word for word in text.split() if word not in stop_words)\n",
    "    return text\n",
    "\n",
    "cleaned_input = preprocess_user_input(user_input)"
   ]
  },
  {
   "cell_type": "code",
   "execution_count": 199,
   "metadata": {},
   "outputs": [
    {
     "data": {
      "text/plain": [
       "'Thanks for helping me.'"
      ]
     },
     "execution_count": 199,
     "metadata": {},
     "output_type": "execute_result"
    }
   ],
   "source": [
    "user_input\n"
   ]
  },
  {
   "cell_type": "code",
   "execution_count": 200,
   "metadata": {},
   "outputs": [
    {
     "data": {
      "text/plain": [
       "'thanks helping'"
      ]
     },
     "execution_count": 200,
     "metadata": {},
     "output_type": "execute_result"
    }
   ],
   "source": [
    "cleaned_input"
   ]
  },
  {
   "cell_type": "markdown",
   "metadata": {},
   "source": [
    "## Step 8.2: Load the Saved Model"
   ]
  },
  {
   "cell_type": "code",
   "execution_count": 201,
   "metadata": {},
   "outputs": [],
   "source": [
    "# Load the vectorizer and the model (ensure these are the same as used during training)\n",
    "vectorizer = joblib.load('tfidf_vectorizer.pkl')\n",
    "model = joblib.load('naive_bayes_model.pkl')"
   ]
  },
  {
   "cell_type": "markdown",
   "metadata": {},
   "source": [
    "## Step 8.3: Transform the user input using the loaded vectorizer"
   ]
  },
  {
   "cell_type": "code",
   "execution_count": 202,
   "metadata": {},
   "outputs": [
    {
     "name": "stdout",
     "output_type": "stream",
     "text": [
      "\n",
      "TF-IDF Features DataFrame for User Input:\n",
      "   despair  dont   im  like  love  man  sad  sadness  time  yet\n",
      "0      0.0   0.0  0.0   0.0   0.0  0.0  0.0      0.0   0.0  0.0\n"
     ]
    }
   ],
   "source": [
    "\n",
    "\n",
    "# Transform the cleaned input using the vectorizer\n",
    "X_test_tfidf = vectorizer.transform([cleaned_input])  # Wrap the cleaned input in a list\n",
    "\n",
    "# Convert the TF-IDF sparse matrix to a DataFrame\n",
    "X_test_tfidf_df = pd.DataFrame(X_test_tfidf.toarray(), columns=vectorizer.get_feature_names_out())\n",
    "\n",
    "print(\"\\nTF-IDF Features DataFrame for User Input:\")\n",
    "print(X_test_tfidf_df)\n"
   ]
  },
  {
   "cell_type": "code",
   "execution_count": 203,
   "metadata": {},
   "outputs": [],
   "source": [
    "# Transform the user input using the loaded vectorizer\n",
    "user_input_tfidf = vectorizer.transform([cleaned_input])"
   ]
  },
  {
   "cell_type": "markdown",
   "metadata": {},
   "source": [
    "## Step 8.4: Predict the sentiment of the user input"
   ]
  },
  {
   "cell_type": "code",
   "execution_count": 206,
   "metadata": {},
   "outputs": [
    {
     "name": "stdout",
     "output_type": "stream",
     "text": [
      "The emotion of  \"Thanks for helping me.\"  is: fear\n"
     ]
    },
    {
     "name": "stderr",
     "output_type": "stream",
     "text": [
      "C:\\Users\\Haris Ellahi\\anaconda3\\lib\\site-packages\\sklearn\\base.py:413: UserWarning: X has feature names, but MultinomialNB was fitted without feature names\n",
      "  warnings.warn(\n"
     ]
    }
   ],
   "source": [
    "# Predict the sentiment of the user input\n",
    "user_prediction = model.predict(X_test_tfidf_df)\n",
    "\n",
    "\n",
    "# # Output the prediction\n",
    "print(f\"The emotion of  \\\"{user_input}\\\"  is: {user_prediction[0]}\")"
   ]
  },
  {
   "cell_type": "markdown",
   "metadata": {},
   "source": [
    "# Step 9: Execute the Feedback Phase\n",
    "## A Two-Step Process\n",
    "### Step 01: After some time, take Feedback from\n",
    "    o\tDomain Experts and Users on deployed Titanic Passenger Survival Prediction System\n",
    "### Step 02: Make a List of Possible Improvements based on Feedback received"
   ]
  },
  {
   "cell_type": "markdown",
   "metadata": {},
   "source": [
    "todo gender identificaton form text\n",
    "\n",
    "muti clas age group identification from text, emotion redectipn fronm text. mahy by personalityh type"
   ]
  },
  {
   "cell_type": "markdown",
   "metadata": {},
   "source": [
    "# Step 10: Improve Model based on Feedback\n",
    "### There is Always Room for Improvement\n",
    "### Based on Feedback from Domain Experts and Users\n",
    "    o\tImprove your Model"
   ]
  }
 ],
 "metadata": {
  "kernelspec": {
   "display_name": "Python 3 (ipykernel)",
   "language": "python",
   "name": "python3"
  },
  "language_info": {
   "codemirror_mode": {
    "name": "ipython",
    "version": 3
   },
   "file_extension": ".py",
   "mimetype": "text/x-python",
   "name": "python",
   "nbconvert_exporter": "python",
   "pygments_lexer": "ipython3",
   "version": "3.10.9"
  }
 },
 "nbformat": 4,
 "nbformat_minor": 4
}
